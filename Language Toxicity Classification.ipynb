{
 "cells": [
  {
   "cell_type": "markdown",
   "metadata": {},
   "source": [
    "# Language Toxicity Classification\n",
    "Classifying abusive language in online forums\n",
    "___\n",
    ">Many online content providers depend upon an engaged and active online community, oftentimes for the creation of content itself, and need ways to ensure their site is an attractive destination for repeat web traffic. One of the ways they often achieve this is through an engaging online forum. However, when abusive community members are allowed to make a forum feel toxic, many of the other members can be turned off by this behavior and begin to limit, if not completely eliminate, their level of engagement in the community. This can lead to a reduction in content, along with the inherent resulting revenue losses, and a reduction in forum vibrancy. This can potentially lead to an overall stale web experience, inspiring others to abstain as well.\n",
    "\n",
    "I’ll be using data from Kaggle’s Toxic Comment Classification Challenge in which a research initiative founded by Jigsaw and Google, known as the Conversation AI team, held a competition to determine if negative online behaviors, specifically comments that are rude, disrespectful or otherwise likely to make someone leave a discussion, could be identified and removed, thus improving online conversations. The challenge is to identify six different categories of abusive comments so that users interested in moderating an online discussion forum could allow degrees, or types, of profanity/abuse while eliminating others.\n"
   ]
  },
  {
   "cell_type": "code",
   "execution_count": 8,
   "metadata": {},
   "outputs": [],
   "source": [
    "import numpy as np \n",
    "import pandas as pd\n",
    "import pickle\n",
    "\n",
    "#text\n",
    "import sklearn\n",
    "import spacy\n",
    "import string\n",
    "import nltk\n",
    "from nltk.corpus import stopwords\n",
    "nltk.download('stopwords', quiet=True)\n",
    "import re\n",
    "from collections import Counter\n",
    "\n",
    "# plotting\n",
    "import matplotlib.pyplot as plt\n",
    "import seaborn as sns\n",
    "import multiprocessing\n",
    "cores = multiprocessing.cpu_count()\n",
    "\n",
    "#sklearn\n",
    "from sklearn import preprocessing\n",
    "from sklearn.metrics import log_loss\n",
    "from sklearn.model_selection import cross_val_score\n",
    "from sklearn.metrics import classification_report\n",
    "from sklearn.model_selection import train_test_split\n",
    "from sklearn.metrics import confusion_matrix, precision_score, recall_score, accuracy_score, f1_score\n",
    "from sklearn.linear_model import LogisticRegression\n",
    "from sklearn.feature_extraction.text import TfidfVectorizer\n",
    "from sklearn.pipeline import Pipeline\n",
    "\n",
    "#time\n",
    "from tqdm.auto import tqdm # show progress bar\n",
    "import time # time random searches\n",
    "\n",
    "import warnings\n",
    "warnings.filterwarnings(\"ignore\")\n",
    "sns.set_style('darkgrid')"
   ]
  },
  {
   "cell_type": "code",
   "execution_count": 2,
   "metadata": {},
   "outputs": [],
   "source": [
    "import en_core_web_lg\n",
    "nlp = en_core_web_lg.load()"
   ]
  },
  {
   "cell_type": "code",
   "execution_count": 3,
   "metadata": {},
   "outputs": [],
   "source": [
    "comments = pd.read_csv('../Downloads/jigsaw-toxic-comment-classification-challenge/train.csv.zip')\n",
    "# We choose the first 100,569 rows because it will leave us with exactly 100,000 rows when we delete duplicates\n",
    "comments = comments.iloc[:100569, 1:]"
   ]
  },
  {
   "cell_type": "code",
   "execution_count": 4,
   "metadata": {},
   "outputs": [
    {
     "data": {
      "text/html": [
       "<div>\n",
       "<style scoped>\n",
       "    .dataframe tbody tr th:only-of-type {\n",
       "        vertical-align: middle;\n",
       "    }\n",
       "\n",
       "    .dataframe tbody tr th {\n",
       "        vertical-align: top;\n",
       "    }\n",
       "\n",
       "    .dataframe thead th {\n",
       "        text-align: right;\n",
       "    }\n",
       "</style>\n",
       "<table border=\"1\" class=\"dataframe\">\n",
       "  <thead>\n",
       "    <tr style=\"text-align: right;\">\n",
       "      <th></th>\n",
       "      <th>comment_text</th>\n",
       "      <th>toxic</th>\n",
       "      <th>severe_toxic</th>\n",
       "      <th>obscene</th>\n",
       "      <th>threat</th>\n",
       "      <th>insult</th>\n",
       "      <th>identity_hate</th>\n",
       "    </tr>\n",
       "  </thead>\n",
       "  <tbody>\n",
       "    <tr>\n",
       "      <th>0</th>\n",
       "      <td>explanation why the edits made under my userna...</td>\n",
       "      <td>0</td>\n",
       "      <td>0</td>\n",
       "      <td>0</td>\n",
       "      <td>0</td>\n",
       "      <td>0</td>\n",
       "      <td>0</td>\n",
       "    </tr>\n",
       "    <tr>\n",
       "      <th>1</th>\n",
       "      <td>d'aww he matches this background colour i'm se...</td>\n",
       "      <td>0</td>\n",
       "      <td>0</td>\n",
       "      <td>0</td>\n",
       "      <td>0</td>\n",
       "      <td>0</td>\n",
       "      <td>0</td>\n",
       "    </tr>\n",
       "    <tr>\n",
       "      <th>2</th>\n",
       "      <td>hey man i'm really not trying to edit war it's...</td>\n",
       "      <td>0</td>\n",
       "      <td>0</td>\n",
       "      <td>0</td>\n",
       "      <td>0</td>\n",
       "      <td>0</td>\n",
       "      <td>0</td>\n",
       "    </tr>\n",
       "    <tr>\n",
       "      <th>3</th>\n",
       "      <td>more i can't make any real suggestions on impr...</td>\n",
       "      <td>0</td>\n",
       "      <td>0</td>\n",
       "      <td>0</td>\n",
       "      <td>0</td>\n",
       "      <td>0</td>\n",
       "      <td>0</td>\n",
       "    </tr>\n",
       "    <tr>\n",
       "      <th>4</th>\n",
       "      <td>you sir are my hero any chance you remember wh...</td>\n",
       "      <td>0</td>\n",
       "      <td>0</td>\n",
       "      <td>0</td>\n",
       "      <td>0</td>\n",
       "      <td>0</td>\n",
       "      <td>0</td>\n",
       "    </tr>\n",
       "    <tr>\n",
       "      <th>5</th>\n",
       "      <td>congratulations from me as well use the tools ...</td>\n",
       "      <td>0</td>\n",
       "      <td>0</td>\n",
       "      <td>0</td>\n",
       "      <td>0</td>\n",
       "      <td>0</td>\n",
       "      <td>0</td>\n",
       "    </tr>\n",
       "    <tr>\n",
       "      <th>6</th>\n",
       "      <td>cocksucker before you piss around on my work</td>\n",
       "      <td>1</td>\n",
       "      <td>1</td>\n",
       "      <td>1</td>\n",
       "      <td>0</td>\n",
       "      <td>1</td>\n",
       "      <td>0</td>\n",
       "    </tr>\n",
       "    <tr>\n",
       "      <th>7</th>\n",
       "      <td>your vandalism to the matt shirvington article...</td>\n",
       "      <td>0</td>\n",
       "      <td>0</td>\n",
       "      <td>0</td>\n",
       "      <td>0</td>\n",
       "      <td>0</td>\n",
       "      <td>0</td>\n",
       "    </tr>\n",
       "    <tr>\n",
       "      <th>8</th>\n",
       "      <td>sorry if the word 'nonsense' was offensive to ...</td>\n",
       "      <td>0</td>\n",
       "      <td>0</td>\n",
       "      <td>0</td>\n",
       "      <td>0</td>\n",
       "      <td>0</td>\n",
       "      <td>0</td>\n",
       "    </tr>\n",
       "    <tr>\n",
       "      <th>9</th>\n",
       "      <td>alignment on this subject and which are contra...</td>\n",
       "      <td>0</td>\n",
       "      <td>0</td>\n",
       "      <td>0</td>\n",
       "      <td>0</td>\n",
       "      <td>0</td>\n",
       "      <td>0</td>\n",
       "    </tr>\n",
       "  </tbody>\n",
       "</table>\n",
       "</div>"
      ],
      "text/plain": [
       "                                        comment_text  toxic  severe_toxic  \\\n",
       "0  explanation why the edits made under my userna...      0             0   \n",
       "1  d'aww he matches this background colour i'm se...      0             0   \n",
       "2  hey man i'm really not trying to edit war it's...      0             0   \n",
       "3  more i can't make any real suggestions on impr...      0             0   \n",
       "4  you sir are my hero any chance you remember wh...      0             0   \n",
       "5  congratulations from me as well use the tools ...      0             0   \n",
       "6       cocksucker before you piss around on my work      1             1   \n",
       "7  your vandalism to the matt shirvington article...      0             0   \n",
       "8  sorry if the word 'nonsense' was offensive to ...      0             0   \n",
       "9  alignment on this subject and which are contra...      0             0   \n",
       "\n",
       "   obscene  threat  insult  identity_hate  \n",
       "0        0       0       0              0  \n",
       "1        0       0       0              0  \n",
       "2        0       0       0              0  \n",
       "3        0       0       0              0  \n",
       "4        0       0       0              0  \n",
       "5        0       0       0              0  \n",
       "6        1       0       1              0  \n",
       "7        0       0       0              0  \n",
       "8        0       0       0              0  \n",
       "9        0       0       0              0  "
      ]
     },
     "execution_count": 4,
     "metadata": {},
     "output_type": "execute_result"
    }
   ],
   "source": [
    "def clean_text(doc):\n",
    "    # lower case and remove special characters\\whitespace, (ignore case)|(ASCII-only matching)\n",
    "    doc = re.sub('\\n', ' ', doc)\n",
    "    doc = re.sub(r'[^a-zA-Z\\s\\'\\t]', '', doc, re.I|re.A)\n",
    "    doc = doc.lower().strip()\n",
    "    doc = re.sub(' +', ' ', doc)\n",
    "    return doc\n",
    "\n",
    "comments['comment_text'] = comments['comment_text'].apply(clean_text)\n",
    "comments.head(10)"
   ]
  },
  {
   "cell_type": "markdown",
   "metadata": {},
   "source": [
    "# EDA"
   ]
  },
  {
   "cell_type": "code",
   "execution_count": 5,
   "metadata": {},
   "outputs": [
    {
     "data": {
      "text/plain": [
       "comment_text     99959\n",
       "toxic                2\n",
       "severe_toxic         2\n",
       "obscene              2\n",
       "threat               2\n",
       "insult               2\n",
       "identity_hate        2\n",
       "dtype: int64"
      ]
     },
     "execution_count": 5,
     "metadata": {},
     "output_type": "execute_result"
    }
   ],
   "source": [
    "#Checking for any non-binary observations in our comment flags\n",
    "comments.nunique()"
   ]
  },
  {
   "cell_type": "markdown",
   "metadata": {},
   "source": [
    "> We have some duplicate rows that we will delete, keeping only the first occurence of each duplicate."
   ]
  },
  {
   "cell_type": "code",
   "execution_count": 6,
   "metadata": {},
   "outputs": [
    {
     "name": "stdout",
     "output_type": "stream",
     "text": [
      "<class 'pandas.core.frame.DataFrame'>\n",
      "RangeIndex: 100000 entries, 0 to 99999\n",
      "Data columns (total 7 columns):\n",
      "comment_text     100000 non-null object\n",
      "toxic            100000 non-null int64\n",
      "severe_toxic     100000 non-null int64\n",
      "obscene          100000 non-null int64\n",
      "threat           100000 non-null int64\n",
      "insult           100000 non-null int64\n",
      "identity_hate    100000 non-null int64\n",
      "dtypes: int64(6), object(1)\n",
      "memory usage: 5.3+ MB\n"
     ]
    }
   ],
   "source": [
    "comments.drop_duplicates(keep='first', inplace=True)\n",
    "comments.reset_index(drop=True, inplace=True)\n",
    "\n",
    "# comments.to_pickle('raw_comments.pkl')\n",
    "    \n",
    "comments = pd.read_pickle('raw_comments.pkl')\n",
    "comments.info()"
   ]
  },
  {
   "cell_type": "markdown",
   "metadata": {},
   "source": [
    "> There are no null observations"
   ]
  },
  {
   "cell_type": "code",
   "execution_count": 7,
   "metadata": {},
   "outputs": [
    {
     "data": {
      "text/plain": [
       "severe_toxic       0\n",
       "obscene          329\n",
       "threat            17\n",
       "insult           335\n",
       "identity_hate     66\n",
       "dtype: int64"
      ]
     },
     "execution_count": 7,
     "metadata": {},
     "output_type": "execute_result"
    }
   ],
   "source": [
    "#Checking if the 'toxic' flag is an umbrella designation assigned with all other flags\n",
    "comments.iloc[:, 2:][comments.toxic==0].sum(axis=0)"
   ]
  },
  {
   "cell_type": "code",
   "execution_count": 8,
   "metadata": {},
   "outputs": [
    {
     "data": {
      "text/plain": [
       "severe_toxic     0.000000\n",
       "obscene          0.061587\n",
       "threat           0.053968\n",
       "insult           0.067323\n",
       "identity_hate    0.076834\n",
       "dtype: float64"
      ]
     },
     "execution_count": 8,
     "metadata": {},
     "output_type": "execute_result"
    }
   ],
   "source": [
    "# What % of flags are not correlated with a 'toxic' designation\n",
    "comments.iloc[:, 2:][comments.toxic==0].sum(axis=0)/comments.iloc[:, 2:].sum(axis=0)"
   ]
  },
  {
   "cell_type": "markdown",
   "metadata": {},
   "source": [
    "> It appears that the `severe_toxic` designation is the only flag that's completely dependent upon the `toxic` designation. That being said, the other designations only have about 5.3-7.7% non-`toxic` correlated observations. Since all but the `severe_toxic` flag have separate observations from the `toxic` designation, we will create a new `abusive` aolumn that will tally when any one of the six designations have been flagged. We will then plot the designations vs. overall abusiveness then vs. overall abusiveness and non-abusiveness."
   ]
  },
  {
   "cell_type": "code",
   "execution_count": 9,
   "metadata": {},
   "outputs": [],
   "source": [
    "# Counting single flagged comments by class\n",
    "flags = []\n",
    "flag_count = []\n",
    "for i in range(len(comments)):\n",
    "     # Identifies the column indexes\n",
    "    lst = list(np.where(comments.iloc[i,:]==1)[0])\n",
    "    \n",
    "     # Counting the number of total flags per comment\n",
    "    flag_count.append(comments.iloc[i,1:].sum())\n",
    "    \n",
    "     # Counting the number of unique flags per class\n",
    "    if comments.iloc[i,1:].sum()==1:\n",
    "        # +1 to account for the non-executed upper bound of a slice\n",
    "        flags.append(comments.iloc[i,min(lst):max(lst)+1].index[0])"
   ]
  },
  {
   "cell_type": "code",
   "execution_count": 10,
   "metadata": {
    "scrolled": true
   },
   "outputs": [],
   "source": [
    "# Creating a column that flags any observation with any one of the abusive designations\n",
    "comments['abusive'] = 0\n",
    "for idx, num in enumerate(comments.sum(axis=1)):\n",
    "    if num > 0:\n",
    "        comments.abusive[idx] = 1"
   ]
  },
  {
   "cell_type": "code",
   "execution_count": 19,
   "metadata": {},
   "outputs": [
    {
     "name": "stdout",
     "output_type": "stream",
     "text": [
      "Total Abusive comments: 10215 \n",
      "\n",
      "Unique flags by class:\n",
      "Counter({'toxic': 3567, 'obscene': 193, 'insult': 185, 'identity_hate': 40, 'threat': 13})\n"
     ]
    }
   ],
   "source": [
    "print('Total Abusive comments:', len(comments[comments.abusive==1]),'\\n')\n",
    "flags = Counter(flags)\n",
    "print(f'Unique flags by class:\\n{flags}')"
   ]
  },
  {
   "cell_type": "code",
   "execution_count": 21,
   "metadata": {},
   "outputs": [
    {
     "name": "stdout",
     "output_type": "stream",
     "text": [
      "Multiple flag count: Counter({0: 89785, 1: 3998, 3: 2655, 2: 2183, 4: 1119, 5: 238, 6: 22})\n"
     ]
    }
   ],
   "source": [
    "count = Counter(flag_count)\n",
    "print(f'Multiple flag count: {count}')"
   ]
  },
  {
   "cell_type": "code",
   "execution_count": 13,
   "metadata": {},
   "outputs": [
    {
     "data": {
      "image/png": "[encoded data removed]",
      "text/plain": [
       "<Figure size 1152x360 with 2 Axes>"
      ]
     },
     "metadata": {
      "needs_background": "light"
     },
     "output_type": "display_data"
    }
   ],
   "source": [
    "palette = sns.color_palette('Set1',8)\n",
    "\n",
    "plt.figure(figsize=(16,5))\n",
    "plt.rcParams[\"axes.edgecolor\"] = 'k'\n",
    "plt.rcParams[\"axes.linewidth\"]  = 1.25 \n",
    "\n",
    "plt.subplot(121)\n",
    "rects = sns.barplot(list(flags.keys()), list(flags.values()), palette=palette, edgecolor='k')\n",
    "plt.title('Number of Unique Flags (% of abusive comments)', size=16)\n",
    "plt.ylabel('count')\n",
    "plt.ylim(top=4200)\n",
    "\n",
    "plt.subplot(122)\n",
    "rects2 = sns.barplot(list(count.keys()), list(count.values()), palette='Blues_r', edgecolor='k')\n",
    "plt.title('Total Number of Flags (% of total comments)', size=16)\n",
    "plt.xlabel('multiple flag number')\n",
    "plt.ylabel('count')\n",
    "plt.ylim(top=105000)\n",
    "\n",
    "for index, value in enumerate(flags.values()):\n",
    "    rects.text(index, value + 100, str(value), color='k', ha='center', size=16)\n",
    "    rects.text(index+.03, value + 350, f\"{round(value*100/len(comments[comments.abusive==1]),1)}%\", color='r', ha='center', size=16)\n",
    "for index in sorted(count.keys()):\n",
    "    rects2.text(index, count[index] + 2000, count[index], color='k', ha='center', size=16)\n",
    "    rects2.text(index, count[index] + 8000, f\"{round(count[index]/1000,1)}%\", color='r', ha='center', size=16)\n",
    "\n",
    "plt.tight_layout()\n",
    "plt.show()"
   ]
  },
  {
   "cell_type": "markdown",
   "metadata": {},
   "source": [
    "> There is significant overlap between the classes. With over ten thousand comments flagged as abusive, only the general `toxic` class has a significant amount of uniquely flagged comments, at 3567 observations, with the `threat` class having a mere 13! Also, unique flags account for only 4% of our total documents, at 3998 observations. I anticipate that such class overlap might make detecting noise unique to any particular class a bit problematic."
   ]
  },
  {
   "cell_type": "code",
   "execution_count": 25,
   "metadata": {},
   "outputs": [
    {
     "data": {
      "image/png": "[encoded data removed]",
      "text/plain": [
       "<Figure size 1152x360 with 2 Axes>"
      ]
     },
     "metadata": {
      "needs_background": "light"
     },
     "output_type": "display_data"
    }
   ],
   "source": [
    "palette = sns.color_palette('Set1',8)\n",
    "\n",
    "plt.figure(figsize=(16,5))\n",
    "plt.rcParams[\"axes.edgecolor\"] = 'k'\n",
    "plt.rcParams[\"axes.linewidth\"]  = 1.25 \n",
    "\n",
    "plt.subplot(121)\n",
    "rects = sns.barplot(comments.iloc[:, 1:].sum(axis=0), comments.columns[1:], orient='h', palette=palette, edgecolor='k')\n",
    "plt.title('Negative Comments as % of Overall Abusiveness', size=16)\n",
    "plt.xlabel('count')\n",
    "plt.xlim(right=12000)\n",
    "\n",
    "plt.subplot(122)\n",
    "rows = (list(comments.columns[1:]) + ['non-abusive'])\n",
    "values = (list(comments.iloc[:, 1:].sum(axis=0)) + [len(comments[comments.abusive==0])])\n",
    "rects2 = sns.barplot(values, rows, orient='h', palette=palette, edgecolor='k')\n",
    "plt.title('Negative Comments/(Non-)Abusiveness \\nas % of Total Comments', size=16)\n",
    "plt.xlabel('count')\n",
    "plt.xlim(right=102000)\n",
    "\n",
    "for index, value in enumerate(values):\n",
    "    # Making sure our first plot doesn't plot 'non-abusive'\n",
    "    if index < len(values)-1:\n",
    "        rects.text(value + 250, index +.15, f'{round(value*100/len(comments[comments.abusive==1]),1)}%', color='k', ha='left', size=14)\n",
    "        rects2.text(value + 2000, index + .15, f'{round(value*100/len(comments),1)}%', color='k', ha='left', size=14)\n",
    "    else:\n",
    "        rects2.text(value + 2000, index + .15, f'{round(value*100/len(comments),1)}%', color='k', ha='left', size=14)\n",
    "\n",
    "plt.tight_layout()\n",
    "plt.show()"
   ]
  },
  {
   "cell_type": "markdown",
   "metadata": {},
   "source": [
    ">All the percentages vary widely for each category of abuse. Furthermore, non-abusive comments comprise almost 90 percent of our observations. Due to these differences, we might have to deal with class imbalance issues later during our modeling.\n",
    "+ **Note**: It's important to remember that overlap exists between the abusive designations, hence why the sum of the abusive and non-abusive percentages don't add up to 100."
   ]
  },
  {
   "cell_type": "markdown",
   "metadata": {},
   "source": [
    "# Word Frequency Comparisons (Lemmatization)\n",
    "> We can examine which words might prove the most useful in distinguishing one class from another by comparing which words are both more unique and more frequent for each class. There are 15 possible comparisons we could make between the various classes, but below we just examine a few of the similar-sized classes, as well as the two 'toxic' classifications, to get aglimpse at which words might best define a class."
   ]
  },
  {
   "cell_type": "code",
   "execution_count": 26,
   "metadata": {},
   "outputs": [],
   "source": [
    "# Utility function to calculate how frequently lemmas appear in the text.\n",
    "def lemma_frequencies(text, include_stop=True):\n",
    "    \n",
    "    # Build a list of lemas.\n",
    "    # Strip out punctuation and, optionally, stop words.\n",
    "    lemmas = []\n",
    "    for token in text:\n",
    "        if not token.is_punct and (not token.is_stop or include_stop):\n",
    "            lemmas.append(token.lemma_)\n",
    "            \n",
    "    # Build and return a Counter object containing word counts.\n",
    "    return Counter(lemmas)"
   ]
  },
  {
   "cell_type": "code",
   "execution_count": 93,
   "metadata": {},
   "outputs": [],
   "source": [
    "# Finding the 20 most common words for each class\n",
    "freq_dict = {}\n",
    "corpus_len = {}\n",
    "for target in ['toxic','severe_toxic','obscene','threat','insult','identity_hate']:\n",
    "    counter = Counter([])\n",
    "    target_comments = comments[comments[target]==1]\n",
    "    for text in target_comments.comment_text:\n",
    "        counter += lemma_frequencies(nlp(text), include_stop=False)\n",
    "     # Total word count\n",
    "    corpus_len[f'{target}'] = sum(counter.values())\n",
    "     # Take the top 20 most frequent words for each class\n",
    "    freq_dict[f'{target}_freq'] = counter.most_common(20)"
   ]
  },
  {
   "cell_type": "code",
   "execution_count": 96,
   "metadata": {},
   "outputs": [
    {
     "name": "stdout",
     "output_type": "stream",
     "text": [
      "\n",
      "Unique to Toxic: {'page', 'know', 'like', 'article', 'fat', 'pig', 'block', 'edit', 'hate'}\n",
      "\n",
      "Unique to Severe: {'yourselfgo', 'fucker', 'shut', 'bitch', 'rape', 'piece', 'damn', 'faggot', 'kill'}\n",
      "\n",
      "Common words by greater %:\n",
      " {'cunt': 'severe_toxic(1.74%)/toxic(0.58%)', 'nigger': 'severe_toxic(1.28%)/toxic(1.15%)', 'gay': 'severe_toxic(0.84%)/toxic(0.48%)', 'wikipedia': 'severe_toxic(1.15%)/toxic(0.84%)', 'shit': 'severe_toxic(3.31%)/toxic(1.14%)', 'suck': 'severe_toxic(3.58%)/toxic(1.05%)', 'die': 'severe_toxic(1.96%)/toxic(0.73%)', 'ass': 'severe_toxic(3.13%)/toxic(0.81%)', 'fucking': 'severe_toxic(1.46%)/toxic(0.72%)', 'fuck': 'severe_toxic(8.75%)/toxic(2.47%)', 'u': 'severe_toxic(2.51%)/toxic(0.75%)'}\n"
     ]
    }
   ],
   "source": [
    "# Identify the lemmas common to one class but not the other.\n",
    "toxic_percent = {key: round(value*100/corpus_len['toxic'],2) for (key,value) in freq_dict['toxic_freq']}\n",
    "severe_toxic_percent = {key: round(value*100/corpus_len['severe_toxic'],2) for (key,value) in freq_dict['severe_toxic_freq']}\n",
    "toxic_common = [key for key in toxic_percent]\n",
    "severe_toxic_common = [key for key in severe_toxic_percent]\n",
    "\n",
    "print('\\nUnique to Toxic:', set(toxic_common) - set(severe_toxic_common))\n",
    "print('\\nUnique to Severe:', set(severe_toxic_common) - set(toxic_common))\n",
    "\n",
    "intersection = list(set(toxic_common).intersection(set(severe_toxic_common)))\n",
    "\n",
    "intersect = dict()\n",
    "for word in intersection:\n",
    "    if toxic_percent[word] > severe_toxic_percent[word]:\n",
    "        intersect[word] = f'toxic({toxic_percent[word]}%)/severe_toxic({severe_toxic_percent[word]}%)'\n",
    "    else:\n",
    "        intersect[word] = f'severe_toxic({severe_toxic_percent[word]}%)/toxic({toxic_percent[word]}%)'\n",
    "print('\\nCommon words by greater %:\\n', intersect)"
   ]
  },
  {
   "cell_type": "markdown",
   "metadata": {},
   "source": [
    " > The largest disparities in word usage for the `toxic` and `severe_toxic` classes are for the f-word, with `severe_toxic` comprising 8.75% of it's non-stopword corpus while `toxic` is at a lower 2.47%. The s-word also boast a significant disparity at 3.31% and 1.14% for `severe_toxic` and `toxic` respectively."
   ]
  },
  {
   "cell_type": "code",
   "execution_count": 99,
   "metadata": {},
   "outputs": [
    {
     "name": "stdout",
     "output_type": "stream",
     "text": [
      "\n",
      "Unique to Threat: {'page', 'wales', 'talk', 'ban', 'fool', 'di', 'forever', 'live', 'jim', 'go', 'supertrll', 'block', 'murder', 'pathetic', 'edie'}\n",
      "\n",
      "Unique to Identity Hate: {'cunt', 'niggas', 'nigger', 'mexicans', 'gay', 'like', 'bunksteve', 'licker', 'spanish', 'shit', 'fat', 'suck', 'faggot', 'jew', 'hate'}\n",
      "\n",
      "Common words by greater %:\n",
      " {'die': 'threat(11.02%)/identity_hate(2.68%)', 'fucking': 'identity_hate(1.07%)/threat(0.98%)', 'ass': 'threat(7.86%)/identity_hate(0.66%)', 'fuck': 'identity_hate(2.74%)/threat(1.13%)', 'kill': 'threat(4.62%)/identity_hate(0.64%)'}\n"
     ]
    }
   ],
   "source": [
    "# Identify the lemmas common to one class but not the other.\n",
    "threat_percent = {key: round(value*100/corpus_len['threat'],2) for (key,value) in freq_dict['threat_freq']}\n",
    "identity_hate_percent = {key: round(value*100/corpus_len['identity_hate'],2) for (key,value) in freq_dict['identity_hate_freq']}\n",
    "threat_common = [key for key in threat_percent]\n",
    "identity_hate_common = [key for key in identity_hate_percent]\n",
    "\n",
    "print('\\nUnique to Threat:', set(threat_common) - set(identity_hate_common))\n",
    "print('\\nUnique to Identity Hate:', set(identity_hate_common) - set(threat_common))\n",
    "\n",
    "intersection = list(set(threat_common).intersection(set(identity_hate_common)))\n",
    "\n",
    "intersect = dict()\n",
    "for word in intersection:\n",
    "    if threat_percent[word] > identity_hate_percent[word]:\n",
    "        intersect[word] = f'threat({threat_percent[word]}%)/identity_hate({identity_hate_percent[word]}%)'\n",
    "    else:\n",
    "        intersect[word] = f'identity_hate({identity_hate_percent[word]}%)/threat({threat_percent[word]}%)'\n",
    "print('\\nCommon words by greater %:\\n', intersect)"
   ]
  },
  {
   "cell_type": "markdown",
   "metadata": {},
   "source": [
    "> There's a large disparity in usage for the word 'die' favoring the `threat` class over the `identity_hate`, 11.02% to 2.68%. the word 'ass' and 'kill' follow next with disparities of 7.86% to 0.66% and 4.62% to 0.64%, both in favor of the `threat` class. There also appears to be more ethnic and racial slurs among the most popular `identity_hate`-related words than in the `threat`-related words."
   ]
  },
  {
   "cell_type": "code",
   "execution_count": 100,
   "metadata": {},
   "outputs": [
    {
     "name": "stdout",
     "output_type": "stream",
     "text": [
      "\n",
      "Unique to Obscene: {'block', 'bullshit'}\n",
      "\n",
      "Unique to insult: {'jew', 'moron'}\n",
      "\n",
      "Common words by greater %:\n",
      " {'know': 'insult(0.64%)/obscene(0.56%)', 'page': 'obscene(0.58%)/insult(0.57%)', 'cunt': 'insult(1.12%)/obscene(1.02%)', 'fuck': 'obscene(4.32%)/insult(3.63%)', 'like': 'insult(0.88%)/obscene(0.77%)', 'nigger': 'insult(1.94%)/obscene(1.74%)', 'wikipedia': 'obscene(0.82%)/insult(0.63%)', 'bitch': 'insult(0.82%)/obscene(0.74%)', 'shit': 'obscene(1.79%)/insult(0.9%)', 'suck': 'obscene(1.64%)/insult(1.63%)', 'fat': 'insult(0.98%)/obscene(0.84%)', 'fucking': 'insult(1.27%)/obscene(1.24%)', 'ass': 'obscene(1.4%)/insult(1.13%)', 'die': 'insult(0.79%)/obscene(0.66%)', 'dick': 'obscene(0.57%)/insult(0.54%)', 'u': 'insult(1.31%)/obscene(1.19%)', 'edit': 'obscene(0.59%)/insult(0.57%)', 'hate': 'insult(1.02%)/obscene(0.49%)'}\n"
     ]
    }
   ],
   "source": [
    "# Identify the lemmas common to one class but not the other.\n",
    "obscene_percent = {key: round(value*100/corpus_len['obscene'],2) for (key,value) in freq_dict['obscene_freq']}\n",
    "insult_percent = {key: round(value*100/corpus_len['insult'],2) for (key,value) in freq_dict['insult_freq']}\n",
    "obscene_common = [key for key in obscene_percent]\n",
    "insult_common = [key for key in insult_percent]\n",
    "\n",
    "print('\\nUnique to Obscene:', set(obscene_common) - set(insult_common))\n",
    "print('\\nUnique to insult:', set(insult_common) - set(obscene_common))\n",
    "\n",
    "intersection = list(set(obscene_common).intersection(set(insult_common)))\n",
    "\n",
    "intersect = dict()\n",
    "for word in intersection:\n",
    "    if obscene_percent[word] > insult_percent[word]:\n",
    "        intersect[word] = f'obscene({obscene_percent[word]}%)/insult({insult_percent[word]}%)'\n",
    "    else:\n",
    "        intersect[word] = f'insult({insult_percent[word]}%)/obscene({obscene_percent[word]}%)'\n",
    "print('\\nCommon words by greater %:\\n', intersect)"
   ]
  },
  {
   "cell_type": "markdown",
   "metadata": {},
   "source": [
    "> The `obscene` and `insult` most prevalent common words don't seem to have the same level of disparity as the previous comparisons, with perhaps the word 'hate' having the only somewhat significant disparity, with a prevalence favoring `insult`, 1.02%  to 0.49%. The F-word and S-word are the two words that favor the `obscene` class over the `insult` class, at 4.32% to 3.63% and 1.79% to 0.9%, repectively."
   ]
  },
  {
   "cell_type": "markdown",
   "metadata": {},
   "source": [
    "### Functions"
   ]
  },
  {
   "cell_type": "code",
   "execution_count": 22,
   "metadata": {},
   "outputs": [],
   "source": [
    "def normalize_document(doc, stopwords=True, pos=False):\n",
    "    # tokenize document\n",
    "    tokens = nlp(str(doc))\n",
    "    tokens_list = []\n",
    "    if pos:\n",
    "        if not stopwords:\n",
    "            for tok in tokens:\n",
    "                if not tok.is_stop:\n",
    "                    tokens_list.append(str(tok) + f'_{tok.pos_}')\n",
    "        else:\n",
    "            for tok in tokens:\n",
    "                tokens_list.append(str(tok) + f'_{tok.pos_}')\n",
    "    else:\n",
    "        if not stopwords:\n",
    "            for tok in tokens:\n",
    "                if not tok.is_stop:\n",
    "                    tokens_list.append(str(tok))\n",
    "        else:\n",
    "            for tok in tokens:\n",
    "                tokens_list.append(str(tok))\n",
    "    return tokens_list\n",
    "\n",
    "normalize_corpus = np.vectorize(normalize_document)"
   ]
  },
  {
   "cell_type": "code",
   "execution_count": 23,
   "metadata": {},
   "outputs": [],
   "source": [
    "def append_scorecard(scores, scorecard):\n",
    "    to_append = scores\n",
    "    df_length = len(scorecard)\n",
    "    scorecard.loc[df_length] = to_append"
   ]
  },
  {
   "cell_type": "code",
   "execution_count": 24,
   "metadata": {},
   "outputs": [],
   "source": [
    "def targets_vectors(model, input_docs):\n",
    "    sents = input_docs\n",
    "    model.random.seed(0)\n",
    "    targets, feature_vectors = zip(*[(comments.loc[doc.tags[0],'toxic'], model.infer_vector(doc.words, steps=20)) for doc in tqdm(sents,leave=False)])\n",
    "    return targets, feature_vectors"
   ]
  },
  {
   "cell_type": "code",
   "execution_count": 25,
   "metadata": {},
   "outputs": [],
   "source": [
    "def model_scores(X, X_norm, Y, stop, pos):\n",
    "    # models with doc2vec, stopwords=stopwords, pos=pos\n",
    "    for model,v in {lr:'Logistic Regression', km:'K-Means'}.items():\n",
    "        scores = []\n",
    "        scores.extend([f'{(v)} non-Normalized','doc2vec', stop, pos])\n",
    "        for score in tqdm(['precision','recall','f1','accuracy'], leave=False):\n",
    "            cv = cross_val_score(model, X, Y, cv=5, scoring=score)\n",
    "            scores.append(f\"{round(cv.mean(), 2)}\")\n",
    "        append_scorecard(scores, scorecard)\n",
    "        scores = []\n",
    "        scores.extend([f'{(v)} Normalized','doc2vec',stop, pos])\n",
    "        for score in tqdm(['precision','recall','f1','accuracy'], leave=False):\n",
    "            cv = cross_val_score(model, X_norm, Y, cv=5, scoring=score)\n",
    "            scores.append(f\"{round(cv.mean(), 2)}\")\n",
    "        append_scorecard(scores, scorecard)"
   ]
  },
  {
   "cell_type": "code",
   "execution_count": 26,
   "metadata": {},
   "outputs": [],
   "source": [
    "def highlight_max(s):    \n",
    "    return ['background-color: lightsteelblue' if v == s.max() else '' for v in s]"
   ]
  },
  {
   "cell_type": "code",
   "execution_count": 27,
   "metadata": {},
   "outputs": [],
   "source": [
    "def lemmatize_document(doc, pos=False):\n",
    "    # tokenize document\n",
    "    tokens = nlp(str(doc))\n",
    "    tokens_list = []\n",
    "    if pos:\n",
    "        for tok in tokens:\n",
    "            tokens_list.append(str(tok.lemma_) + f'_{tok.pos_}')\n",
    "    else:\n",
    "        for tok in tokens:\n",
    "            tokens_list.append(str(tok.lemma_))\n",
    "    return tokens_list\n",
    "\n",
    "lemmatize_corpus = np.vectorize(lemmatize_document)"
   ]
  },
  {
   "cell_type": "code",
   "execution_count": 28,
   "metadata": {},
   "outputs": [],
   "source": [
    "def norm_lemma_scores(X_norm, Y, stop, pos):\n",
    "    # models with doc2vec, stopwords=stopwords, pos=pos\n",
    "    for model,v in {lr:'Lemmatized Log Reg'}.items():\n",
    "        scores = []\n",
    "        scores.extend([f'{(v)} Normalized','doc2vec',stop, pos])\n",
    "        for score in tqdm(['precision','recall','f1','accuracy'], leave=False):\n",
    "            cv = cross_val_score(model, X_norm, Y, cv=5, scoring=score)\n",
    "            scores.append(f\"{round(cv.mean(), 2)}\")\n",
    "        append_scorecard(scores, scorecard)"
   ]
  },
  {
   "cell_type": "code",
   "execution_count": 29,
   "metadata": {},
   "outputs": [],
   "source": [
    "########################################################################\n",
    "#########    Creating a function in order to quickly call upon    ######\n",
    "#########         the model with different features  while        ######\n",
    "#########        cycling through different model parameters       ######\n",
    "########################################################################\n",
    "\n",
    "def LogReg_RandomSearch(X, Y, d2v_params, C=[1e5, 1e3, 5, 1],\n",
    "                                          max_iter=[1000, 2000, 3000],\n",
    "                                          class_weight=['balanced', None],\n",
    "                                          solver=['newton-cg', 'lbfgs', 'liblinear', 'sag', 'saga']\n",
    "                       ):\n",
    "    \n",
    "    X_train, X_test, y_train, y_test = train_test_split(X, Y, test_size=0.3, random_state=0)\n",
    "\n",
    "    logreg_hyperparams = dict(\n",
    "                              C = C,\n",
    "                              max_iter = max_iter,\n",
    "                              class_weight = class_weight,\n",
    "                              solver=solver\n",
    "                              )\n",
    "\n",
    "    logreg_hyper_table = list()\n",
    "\n",
    "    # Timed for loop...start the clock!\n",
    "    start_time = time.time()\n",
    "    for trial in tqdm(range(10), desc=f'LR Trial', leave=False):\n",
    "        params = dict()\n",
    "        for k, v in logreg_hyperparams.items():\n",
    "            i = np.random.randint(len(v))\n",
    "            params[k] = v[i]\n",
    "        #print(params)\n",
    "        logreg = LogisticRegression(**params)\n",
    "        logreg.fit(X_train, y_train)\n",
    "        y_pred_train = logreg.predict(X_train)\n",
    "        y_pred_test = logreg.predict(X_test)\n",
    "        params['d2v_params'] = d2v_params\n",
    "        params['train_precision'] = precision_score(y_train, y_pred_train)\n",
    "        params['test_precision'] = precision_score(y_test, y_pred_test)\n",
    "        params['train_recall'] = recall_score(y_train, y_pred_train)\n",
    "        params['test_recall'] = recall_score(y_test, y_pred_test)\n",
    "        params['train_acc'] = accuracy_score(y_train, y_pred_train)\n",
    "        params['test_acc'] = accuracy_score(y_test, y_pred_test)\n",
    "        params['train_f1'] = f1_score(y_train, y_pred_train)\n",
    "        params['test_f1'] = f1_score(y_test, y_pred_test)\n",
    "        \n",
    "        # Store our parameters and score in a dataframe\n",
    "        logreg_hyper_table.append(params)\n",
    "\n",
    "    logreg_hyper_table = pd.DataFrame(data=logreg_hyper_table)\n",
    "    return logreg_hyper_table.sort_values(by='test_f1', ascending=False).head(3)"
   ]
  },
  {
   "cell_type": "code",
   "execution_count": 111,
   "metadata": {},
   "outputs": [],
   "source": [
    "d2v_lr = []\n",
    "\n",
    "def Doc2Vec_RandomSearch(documents, dm=[1,0], vector_size=[100,200,300], \n",
    "                                    window=[2,3,4], dm_mean=[0,1], \n",
    "                                    iters=[20,50,100], workers=cores, seed=0\n",
    "                        ):\n",
    "    model_hyperparams = dict(\n",
    "                             dm=dm, vector_size=vector_size, \n",
    "                             window=window, \n",
    "                             dm_mean=dm_mean, iter=iters, \n",
    "                            )\n",
    "    for trial in tqdm(range(10), position=0, desc=f'Model Trial', leave=False):\n",
    "        params = dict()\n",
    "        for k, v in model_hyperparams.items():\n",
    "            i = np.random.randint(len(v))\n",
    "            params[k] = v[i]\n",
    "        \n",
    "        model = Doc2Vec(**params, workers=workers, seed=seed)\n",
    "        model.build_vocab([x for x in tqdm(documents, desc='Build vocab:', leave=False)])\n",
    "        model.train(tqdm(documents, \n",
    "                         desc=f\"Train Model #{trial}:\",\n",
    "                         leave=False), total_examples=model.corpus_count, epochs=model.iter)\n",
    "\n",
    "        Y, X = targets_vectors(model, documents)\n",
    "        X_norm = preprocessing.normalize(X, norm='l2')\n",
    "\n",
    "        # Call the Logistic Regression function\n",
    "        logreg_hyper_df = LogReg_RandomSearch(X_norm, Y, params)\n",
    "        d2v_lr.append(logreg_hyper_df)\n",
    "    return d2v_lr"
   ]
  },
  {
   "cell_type": "markdown",
   "metadata": {},
   "source": [
    "## Naive Bayes"
   ]
  },
  {
   "cell_type": "code",
   "execution_count": 12,
   "metadata": {},
   "outputs": [],
   "source": [
    "from sklearn.naive_bayes import MultinomialNB\n",
    "nb =  MultinomialNB()"
   ]
  },
  {
   "cell_type": "code",
   "execution_count": 13,
   "metadata": {},
   "outputs": [
    {
     "name": "stdout",
     "output_type": "stream",
     "text": [
      "Confusion Matrix for toxic:\n",
      " [[27050   106]\n",
      " [ 1448  1396]]\n",
      "              precision    recall  f1-score   support\n",
      "\n",
      "           0       0.95      1.00      0.97     27156\n",
      "           1       0.93      0.49      0.64      2844\n",
      "\n",
      "    accuracy                           0.95     30000\n",
      "Class Balance: 0.905/0.095\n",
      "----------------------------------------------------------------------------------------------------\n",
      "Confusion Matrix for severe_toxic:\n",
      " [[29665    19]\n",
      " [  285    31]]\n",
      "              precision    recall  f1-score   support\n",
      "\n",
      "           0       0.99      1.00      0.99     29684\n",
      "           1       0.62      0.10      0.17       316\n",
      "\n",
      "    accuracy                           0.99     30000\n",
      "Class Balance: 0.989/0.011\n",
      "----------------------------------------------------------------------------------------------------\n",
      "Confusion Matrix for obscene:\n",
      " [[28344    78]\n",
      " [  730   848]]\n",
      "              precision    recall  f1-score   support\n",
      "\n",
      "           0       0.97      1.00      0.99     28422\n",
      "           1       0.92      0.54      0.68      1578\n",
      "\n",
      "    accuracy                           0.97     30000\n",
      "Class Balance: 0.947/0.053\n",
      "----------------------------------------------------------------------------------------------------\n",
      "Confusion Matrix for threat:\n",
      " [[29904     0]\n",
      " [   96     0]]\n",
      "              precision    recall  f1-score   support\n",
      "\n",
      "           0       1.00      1.00      1.00     29904\n",
      "           1       0.00      0.00      0.00        96\n",
      "\n",
      "    accuracy                           1.00     30000\n",
      "Class Balance: 0.997/0.003\n",
      "----------------------------------------------------------------------------------------------------\n",
      "Confusion Matrix for insult:\n",
      " [[28383   140]\n",
      " [  834   643]]\n",
      "              precision    recall  f1-score   support\n",
      "\n",
      "           0       0.97      1.00      0.98     28523\n",
      "           1       0.82      0.44      0.57      1477\n",
      "\n",
      "    accuracy                           0.97     30000\n",
      "Class Balance: 0.951/0.049\n",
      "----------------------------------------------------------------------------------------------------\n",
      "Confusion Matrix for identity_hate:\n",
      " [[29741     8]\n",
      " [  239    12]]\n",
      "              precision    recall  f1-score   support\n",
      "\n",
      "           0       0.99      1.00      1.00     29749\n",
      "           1       0.60      0.05      0.09       251\n",
      "\n",
      "    accuracy                           0.99     30000\n",
      "Class Balance: 0.992/0.008\n",
      "----------------------------------------------------------------------------------------------------\n"
     ]
    }
   ],
   "source": [
    "for target in ['toxic','severe_toxic','obscene','threat','insult','identity_hate']:\n",
    "    nb.fit(X_train, y_train.loc[:, target])\n",
    "    y_pred = nb.predict(X_test)\n",
    "\n",
    "    # print(f'Log_loss score for {target} is {log_loss(y_test.loc[:, target], y_pred, eps=1e-15)}')\n",
    "    print(f'Confusion Matrix for {target}:\\n {confusion_matrix(y_test.loc[:, target], y_pred)}')\n",
    "    print(classification_report(y_test.loc[:, target], y_pred)[:217])\n",
    "    num = sum(y_test.loc[:, target])\n",
    "    print(f'Class Balance: {round(1 - num/30000, 3)}/{round(num/30000, 3)}')\n",
    "    print('-'*100)"
   ]
  },
  {
   "cell_type": "markdown",
   "metadata": {},
   "source": [
    "> With the `toxic` class being the predominant classification, we'll use it as the primary class for comparison between the various models, then we'll use the remaining classes for complimentary examination. Beginning with the Naive Bayes algorithm, we can see that the model improves accuracy to 93%, from the majority class baseline of 90%. So there is _some_ improvement, as this model would outperform a 'skill-less' model. It has a high precision but low recall, resulting in a low f1 score.\n",
    "\n",
    "> When we examine the other classes, there are even more stark class imbalances with majority classes as high as 99% in some cases. With these classes, accuracy scores are near meaningless. Therefore, we will be comparing f1 scores so that we can capture the precision and recall characteristics. The `toxic`, `obscene` and `insult` classes have more flagged observations, and thus appear to be capturikng more signal, judging from the f1 scores. The `severe_toxic`, `threat`  and `identity_hate` classes have so few flagged observations Naive Bayes doesn't seem to be capturing much signal with f1 scores of 0.17, 0.0 and 0.09, respectively."
   ]
  },
  {
   "cell_type": "markdown",
   "metadata": {},
   "source": [
    "# Doc2vec"
   ]
  },
  {
   "cell_type": "code",
   "execution_count": 104,
   "metadata": {},
   "outputs": [],
   "source": [
    "import gensim\n",
    "from gensim.models.doc2vec import Doc2Vec, TaggedDocument\n",
    "from gensim.utils import simple_preprocess"
   ]
  },
  {
   "cell_type": "markdown",
   "metadata": {},
   "source": [
    "### Models"
   ]
  },
  {
   "cell_type": "code",
   "execution_count": 30,
   "metadata": {},
   "outputs": [],
   "source": [
    "# Logistic Regression\n",
    "\n",
    "from sklearn.linear_model import LogisticRegression\n",
    "lr = LogisticRegression(random_state=0)\n",
    "\n",
    "# K-Means\n",
    "\n",
    "from sklearn.cluster import KMeans\n",
    "km = KMeans(init='random', n_clusters=2, n_jobs=-1, random_state=0)"
   ]
  },
  {
   "cell_type": "code",
   "execution_count": 107,
   "metadata": {},
   "outputs": [],
   "source": [
    "scorecard = pd.DataFrame(columns=['model','algorithm','stopwords','pos','precision','recall','f1','accuracy'])"
   ]
  },
  {
   "cell_type": "code",
   "execution_count": null,
   "metadata": {},
   "outputs": [],
   "source": [
    "for bul_stop in [True, False]:\n",
    "    stopwords = bul_stop\n",
    "    for bul_pos in [True, False]:\n",
    "        pos = bul_pos\n",
    "        \n",
    "        # Prepare document\n",
    "        documents = np.empty(len(comments), dtype=object)\n",
    "\n",
    "        # normalize corpus, stopwords=stopwords, pos=pos\n",
    "        for i, doc in enumerate(tqdm(comments.comment_text, \n",
    "                                     desc=f\"Tag Docs: stop={stopwords}, pos={pos}\", \n",
    "                                     leave=False)):\n",
    "            documents[i] = TaggedDocument(normalize_corpus(doc, stopwords=stopwords, pos=pos), [i])\n",
    "        model = Doc2Vec(dm=1, vector_size=300, window=2, min_count=2, workers=cores, dm_mean=0, iter=20, seed=0)\n",
    "        model.build_vocab([x for x in tqdm(documents, leave=False)])\n",
    "        model.train(tqdm(documents, \n",
    "                         desc=f\"Train Model: stop={stopwords}, pos={pos}\",\n",
    "                         leave=False), total_examples=model.corpus_count, epochs=model.iter)\n",
    "\n",
    "        Y, X = targets_vectors(model, documents)\n",
    "        X_norm = preprocessing.normalize(X, norm='l2')\n",
    "        \n",
    "        model_scores(X, X_norm, Y, bul_stop, bul_pos)"
   ]
  },
  {
   "cell_type": "code",
   "execution_count": 31,
   "metadata": {},
   "outputs": [
    {
     "data": {
      "text/html": [
       "<style  type=\"text/css\" >\n",
       "    #T_c665bb6e_da8d_11ea_a6ce_9cb6d09a001frow0_col6 {\n",
       "            background-color:  lightsteelblue;\n",
       "        }    #T_c665bb6e_da8d_11ea_a6ce_9cb6d09a001frow0_col7 {\n",
       "            background-color:  lightsteelblue;\n",
       "        }    #T_c665bb6e_da8d_11ea_a6ce_9cb6d09a001frow1_col7 {\n",
       "            background-color:  lightsteelblue;\n",
       "        }    #T_c665bb6e_da8d_11ea_a6ce_9cb6d09a001frow2_col4 {\n",
       "            background-color:  lightsteelblue;\n",
       "        }    #T_c665bb6e_da8d_11ea_a6ce_9cb6d09a001frow2_col7 {\n",
       "            background-color:  lightsteelblue;\n",
       "        }    #T_c665bb6e_da8d_11ea_a6ce_9cb6d09a001frow3_col7 {\n",
       "            background-color:  lightsteelblue;\n",
       "        }    #T_c665bb6e_da8d_11ea_a6ce_9cb6d09a001frow8_col5 {\n",
       "            background-color:  lightsteelblue;\n",
       "        }</style><table id=\"T_c665bb6e_da8d_11ea_a6ce_9cb6d09a001f\" ><thead>    <tr>        <th class=\"blank level0\" ></th>        <th class=\"col_heading level0 col0\" >model</th>        <th class=\"col_heading level0 col1\" >algorithm</th>        <th class=\"col_heading level0 col2\" >stopwords</th>        <th class=\"col_heading level0 col3\" >pos</th>        <th class=\"col_heading level0 col4\" >precision</th>        <th class=\"col_heading level0 col5\" >recall</th>        <th class=\"col_heading level0 col6\" >f1</th>        <th class=\"col_heading level0 col7\" >accuracy</th>    </tr></thead><tbody>\n",
       "                <tr>\n",
       "                        <th id=\"T_c665bb6e_da8d_11ea_a6ce_9cb6d09a001flevel0_row0\" class=\"row_heading level0 row0\" >0</th>\n",
       "                        <td id=\"T_c665bb6e_da8d_11ea_a6ce_9cb6d09a001frow0_col0\" class=\"data row0 col0\" >Logistic Regression Normalized</td>\n",
       "                        <td id=\"T_c665bb6e_da8d_11ea_a6ce_9cb6d09a001frow0_col1\" class=\"data row0 col1\" >doc2vec</td>\n",
       "                        <td id=\"T_c665bb6e_da8d_11ea_a6ce_9cb6d09a001frow0_col2\" class=\"data row0 col2\" >True</td>\n",
       "                        <td id=\"T_c665bb6e_da8d_11ea_a6ce_9cb6d09a001frow0_col3\" class=\"data row0 col3\" >False</td>\n",
       "                        <td id=\"T_c665bb6e_da8d_11ea_a6ce_9cb6d09a001frow0_col4\" class=\"data row0 col4\" >0.81</td>\n",
       "                        <td id=\"T_c665bb6e_da8d_11ea_a6ce_9cb6d09a001frow0_col5\" class=\"data row0 col5\" >0.54</td>\n",
       "                        <td id=\"T_c665bb6e_da8d_11ea_a6ce_9cb6d09a001frow0_col6\" class=\"data row0 col6\" >0.65</td>\n",
       "                        <td id=\"T_c665bb6e_da8d_11ea_a6ce_9cb6d09a001frow0_col7\" class=\"data row0 col7\" >0.94</td>\n",
       "            </tr>\n",
       "            <tr>\n",
       "                        <th id=\"T_c665bb6e_da8d_11ea_a6ce_9cb6d09a001flevel0_row1\" class=\"row_heading level0 row1\" >1</th>\n",
       "                        <td id=\"T_c665bb6e_da8d_11ea_a6ce_9cb6d09a001frow1_col0\" class=\"data row1 col0\" >Logistic Regression Normalized</td>\n",
       "                        <td id=\"T_c665bb6e_da8d_11ea_a6ce_9cb6d09a001frow1_col1\" class=\"data row1 col1\" >doc2vec</td>\n",
       "                        <td id=\"T_c665bb6e_da8d_11ea_a6ce_9cb6d09a001frow1_col2\" class=\"data row1 col2\" >True</td>\n",
       "                        <td id=\"T_c665bb6e_da8d_11ea_a6ce_9cb6d09a001frow1_col3\" class=\"data row1 col3\" >True</td>\n",
       "                        <td id=\"T_c665bb6e_da8d_11ea_a6ce_9cb6d09a001frow1_col4\" class=\"data row1 col4\" >0.8</td>\n",
       "                        <td id=\"T_c665bb6e_da8d_11ea_a6ce_9cb6d09a001frow1_col5\" class=\"data row1 col5\" >0.52</td>\n",
       "                        <td id=\"T_c665bb6e_da8d_11ea_a6ce_9cb6d09a001frow1_col6\" class=\"data row1 col6\" >0.63</td>\n",
       "                        <td id=\"T_c665bb6e_da8d_11ea_a6ce_9cb6d09a001frow1_col7\" class=\"data row1 col7\" >0.94</td>\n",
       "            </tr>\n",
       "            <tr>\n",
       "                        <th id=\"T_c665bb6e_da8d_11ea_a6ce_9cb6d09a001flevel0_row2\" class=\"row_heading level0 row2\" >2</th>\n",
       "                        <td id=\"T_c665bb6e_da8d_11ea_a6ce_9cb6d09a001frow2_col0\" class=\"data row2 col0\" >Logistic Regression Normalized</td>\n",
       "                        <td id=\"T_c665bb6e_da8d_11ea_a6ce_9cb6d09a001frow2_col1\" class=\"data row2 col1\" >doc2vec</td>\n",
       "                        <td id=\"T_c665bb6e_da8d_11ea_a6ce_9cb6d09a001frow2_col2\" class=\"data row2 col2\" >False</td>\n",
       "                        <td id=\"T_c665bb6e_da8d_11ea_a6ce_9cb6d09a001frow2_col3\" class=\"data row2 col3\" >False</td>\n",
       "                        <td id=\"T_c665bb6e_da8d_11ea_a6ce_9cb6d09a001frow2_col4\" class=\"data row2 col4\" >0.82</td>\n",
       "                        <td id=\"T_c665bb6e_da8d_11ea_a6ce_9cb6d09a001frow2_col5\" class=\"data row2 col5\" >0.49</td>\n",
       "                        <td id=\"T_c665bb6e_da8d_11ea_a6ce_9cb6d09a001frow2_col6\" class=\"data row2 col6\" >0.62</td>\n",
       "                        <td id=\"T_c665bb6e_da8d_11ea_a6ce_9cb6d09a001frow2_col7\" class=\"data row2 col7\" >0.94</td>\n",
       "            </tr>\n",
       "            <tr>\n",
       "                        <th id=\"T_c665bb6e_da8d_11ea_a6ce_9cb6d09a001flevel0_row3\" class=\"row_heading level0 row3\" >3</th>\n",
       "                        <td id=\"T_c665bb6e_da8d_11ea_a6ce_9cb6d09a001frow3_col0\" class=\"data row3 col0\" >Logistic Regression Normalized</td>\n",
       "                        <td id=\"T_c665bb6e_da8d_11ea_a6ce_9cb6d09a001frow3_col1\" class=\"data row3 col1\" >doc2vec</td>\n",
       "                        <td id=\"T_c665bb6e_da8d_11ea_a6ce_9cb6d09a001frow3_col2\" class=\"data row3 col2\" >False</td>\n",
       "                        <td id=\"T_c665bb6e_da8d_11ea_a6ce_9cb6d09a001frow3_col3\" class=\"data row3 col3\" >True</td>\n",
       "                        <td id=\"T_c665bb6e_da8d_11ea_a6ce_9cb6d09a001frow3_col4\" class=\"data row3 col4\" >0.81</td>\n",
       "                        <td id=\"T_c665bb6e_da8d_11ea_a6ce_9cb6d09a001frow3_col5\" class=\"data row3 col5\" >0.46</td>\n",
       "                        <td id=\"T_c665bb6e_da8d_11ea_a6ce_9cb6d09a001frow3_col6\" class=\"data row3 col6\" >0.59</td>\n",
       "                        <td id=\"T_c665bb6e_da8d_11ea_a6ce_9cb6d09a001frow3_col7\" class=\"data row3 col7\" >0.94</td>\n",
       "            </tr>\n",
       "            <tr>\n",
       "                        <th id=\"T_c665bb6e_da8d_11ea_a6ce_9cb6d09a001flevel0_row4\" class=\"row_heading level0 row4\" >4</th>\n",
       "                        <td id=\"T_c665bb6e_da8d_11ea_a6ce_9cb6d09a001frow4_col0\" class=\"data row4 col0\" >Logistic Regression non-Normalized</td>\n",
       "                        <td id=\"T_c665bb6e_da8d_11ea_a6ce_9cb6d09a001frow4_col1\" class=\"data row4 col1\" >doc2vec</td>\n",
       "                        <td id=\"T_c665bb6e_da8d_11ea_a6ce_9cb6d09a001frow4_col2\" class=\"data row4 col2\" >True</td>\n",
       "                        <td id=\"T_c665bb6e_da8d_11ea_a6ce_9cb6d09a001frow4_col3\" class=\"data row4 col3\" >False</td>\n",
       "                        <td id=\"T_c665bb6e_da8d_11ea_a6ce_9cb6d09a001frow4_col4\" class=\"data row4 col4\" >0.76</td>\n",
       "                        <td id=\"T_c665bb6e_da8d_11ea_a6ce_9cb6d09a001frow4_col5\" class=\"data row4 col5\" >0.47</td>\n",
       "                        <td id=\"T_c665bb6e_da8d_11ea_a6ce_9cb6d09a001frow4_col6\" class=\"data row4 col6\" >0.58</td>\n",
       "                        <td id=\"T_c665bb6e_da8d_11ea_a6ce_9cb6d09a001frow4_col7\" class=\"data row4 col7\" >0.93</td>\n",
       "            </tr>\n",
       "            <tr>\n",
       "                        <th id=\"T_c665bb6e_da8d_11ea_a6ce_9cb6d09a001flevel0_row5\" class=\"row_heading level0 row5\" >5</th>\n",
       "                        <td id=\"T_c665bb6e_da8d_11ea_a6ce_9cb6d09a001frow5_col0\" class=\"data row5 col0\" >Logistic Regression non-Normalized</td>\n",
       "                        <td id=\"T_c665bb6e_da8d_11ea_a6ce_9cb6d09a001frow5_col1\" class=\"data row5 col1\" >doc2vec</td>\n",
       "                        <td id=\"T_c665bb6e_da8d_11ea_a6ce_9cb6d09a001frow5_col2\" class=\"data row5 col2\" >True</td>\n",
       "                        <td id=\"T_c665bb6e_da8d_11ea_a6ce_9cb6d09a001frow5_col3\" class=\"data row5 col3\" >True</td>\n",
       "                        <td id=\"T_c665bb6e_da8d_11ea_a6ce_9cb6d09a001frow5_col4\" class=\"data row5 col4\" >0.75</td>\n",
       "                        <td id=\"T_c665bb6e_da8d_11ea_a6ce_9cb6d09a001frow5_col5\" class=\"data row5 col5\" >0.43</td>\n",
       "                        <td id=\"T_c665bb6e_da8d_11ea_a6ce_9cb6d09a001frow5_col6\" class=\"data row5 col6\" >0.55</td>\n",
       "                        <td id=\"T_c665bb6e_da8d_11ea_a6ce_9cb6d09a001frow5_col7\" class=\"data row5 col7\" >0.93</td>\n",
       "            </tr>\n",
       "            <tr>\n",
       "                        <th id=\"T_c665bb6e_da8d_11ea_a6ce_9cb6d09a001flevel0_row6\" class=\"row_heading level0 row6\" >6</th>\n",
       "                        <td id=\"T_c665bb6e_da8d_11ea_a6ce_9cb6d09a001frow6_col0\" class=\"data row6 col0\" >Logistic Regression non-Normalized</td>\n",
       "                        <td id=\"T_c665bb6e_da8d_11ea_a6ce_9cb6d09a001frow6_col1\" class=\"data row6 col1\" >doc2vec</td>\n",
       "                        <td id=\"T_c665bb6e_da8d_11ea_a6ce_9cb6d09a001frow6_col2\" class=\"data row6 col2\" >False</td>\n",
       "                        <td id=\"T_c665bb6e_da8d_11ea_a6ce_9cb6d09a001frow6_col3\" class=\"data row6 col3\" >False</td>\n",
       "                        <td id=\"T_c665bb6e_da8d_11ea_a6ce_9cb6d09a001frow6_col4\" class=\"data row6 col4\" >0.78</td>\n",
       "                        <td id=\"T_c665bb6e_da8d_11ea_a6ce_9cb6d09a001frow6_col5\" class=\"data row6 col5\" >0.37</td>\n",
       "                        <td id=\"T_c665bb6e_da8d_11ea_a6ce_9cb6d09a001frow6_col6\" class=\"data row6 col6\" >0.5</td>\n",
       "                        <td id=\"T_c665bb6e_da8d_11ea_a6ce_9cb6d09a001frow6_col7\" class=\"data row6 col7\" >0.93</td>\n",
       "            </tr>\n",
       "            <tr>\n",
       "                        <th id=\"T_c665bb6e_da8d_11ea_a6ce_9cb6d09a001flevel0_row7\" class=\"row_heading level0 row7\" >7</th>\n",
       "                        <td id=\"T_c665bb6e_da8d_11ea_a6ce_9cb6d09a001frow7_col0\" class=\"data row7 col0\" >Logistic Regression non-Normalized</td>\n",
       "                        <td id=\"T_c665bb6e_da8d_11ea_a6ce_9cb6d09a001frow7_col1\" class=\"data row7 col1\" >doc2vec</td>\n",
       "                        <td id=\"T_c665bb6e_da8d_11ea_a6ce_9cb6d09a001frow7_col2\" class=\"data row7 col2\" >False</td>\n",
       "                        <td id=\"T_c665bb6e_da8d_11ea_a6ce_9cb6d09a001frow7_col3\" class=\"data row7 col3\" >True</td>\n",
       "                        <td id=\"T_c665bb6e_da8d_11ea_a6ce_9cb6d09a001frow7_col4\" class=\"data row7 col4\" >0.75</td>\n",
       "                        <td id=\"T_c665bb6e_da8d_11ea_a6ce_9cb6d09a001frow7_col5\" class=\"data row7 col5\" >0.34</td>\n",
       "                        <td id=\"T_c665bb6e_da8d_11ea_a6ce_9cb6d09a001frow7_col6\" class=\"data row7 col6\" >0.47</td>\n",
       "                        <td id=\"T_c665bb6e_da8d_11ea_a6ce_9cb6d09a001frow7_col7\" class=\"data row7 col7\" >0.93</td>\n",
       "            </tr>\n",
       "            <tr>\n",
       "                        <th id=\"T_c665bb6e_da8d_11ea_a6ce_9cb6d09a001flevel0_row8\" class=\"row_heading level0 row8\" >8</th>\n",
       "                        <td id=\"T_c665bb6e_da8d_11ea_a6ce_9cb6d09a001frow8_col0\" class=\"data row8 col0\" >K-Means non-Normalized</td>\n",
       "                        <td id=\"T_c665bb6e_da8d_11ea_a6ce_9cb6d09a001frow8_col1\" class=\"data row8 col1\" >doc2vec</td>\n",
       "                        <td id=\"T_c665bb6e_da8d_11ea_a6ce_9cb6d09a001frow8_col2\" class=\"data row8 col2\" >False</td>\n",
       "                        <td id=\"T_c665bb6e_da8d_11ea_a6ce_9cb6d09a001frow8_col3\" class=\"data row8 col3\" >True</td>\n",
       "                        <td id=\"T_c665bb6e_da8d_11ea_a6ce_9cb6d09a001frow8_col4\" class=\"data row8 col4\" >0.1</td>\n",
       "                        <td id=\"T_c665bb6e_da8d_11ea_a6ce_9cb6d09a001frow8_col5\" class=\"data row8 col5\" >0.95</td>\n",
       "                        <td id=\"T_c665bb6e_da8d_11ea_a6ce_9cb6d09a001frow8_col6\" class=\"data row8 col6\" >0.18</td>\n",
       "                        <td id=\"T_c665bb6e_da8d_11ea_a6ce_9cb6d09a001frow8_col7\" class=\"data row8 col7\" >0.16</td>\n",
       "            </tr>\n",
       "            <tr>\n",
       "                        <th id=\"T_c665bb6e_da8d_11ea_a6ce_9cb6d09a001flevel0_row9\" class=\"row_heading level0 row9\" >9</th>\n",
       "                        <td id=\"T_c665bb6e_da8d_11ea_a6ce_9cb6d09a001frow9_col0\" class=\"data row9 col0\" >K-Means Normalized</td>\n",
       "                        <td id=\"T_c665bb6e_da8d_11ea_a6ce_9cb6d09a001frow9_col1\" class=\"data row9 col1\" >doc2vec</td>\n",
       "                        <td id=\"T_c665bb6e_da8d_11ea_a6ce_9cb6d09a001frow9_col2\" class=\"data row9 col2\" >True</td>\n",
       "                        <td id=\"T_c665bb6e_da8d_11ea_a6ce_9cb6d09a001frow9_col3\" class=\"data row9 col3\" >True</td>\n",
       "                        <td id=\"T_c665bb6e_da8d_11ea_a6ce_9cb6d09a001frow9_col4\" class=\"data row9 col4\" >0.1</td>\n",
       "                        <td id=\"T_c665bb6e_da8d_11ea_a6ce_9cb6d09a001frow9_col5\" class=\"data row9 col5\" >0.53</td>\n",
       "                        <td id=\"T_c665bb6e_da8d_11ea_a6ce_9cb6d09a001frow9_col6\" class=\"data row9 col6\" >0.16</td>\n",
       "                        <td id=\"T_c665bb6e_da8d_11ea_a6ce_9cb6d09a001frow9_col7\" class=\"data row9 col7\" >0.47</td>\n",
       "            </tr>\n",
       "            <tr>\n",
       "                        <th id=\"T_c665bb6e_da8d_11ea_a6ce_9cb6d09a001flevel0_row10\" class=\"row_heading level0 row10\" >10</th>\n",
       "                        <td id=\"T_c665bb6e_da8d_11ea_a6ce_9cb6d09a001frow10_col0\" class=\"data row10 col0\" >K-Means Normalized</td>\n",
       "                        <td id=\"T_c665bb6e_da8d_11ea_a6ce_9cb6d09a001frow10_col1\" class=\"data row10 col1\" >doc2vec</td>\n",
       "                        <td id=\"T_c665bb6e_da8d_11ea_a6ce_9cb6d09a001frow10_col2\" class=\"data row10 col2\" >False</td>\n",
       "                        <td id=\"T_c665bb6e_da8d_11ea_a6ce_9cb6d09a001frow10_col3\" class=\"data row10 col3\" >True</td>\n",
       "                        <td id=\"T_c665bb6e_da8d_11ea_a6ce_9cb6d09a001frow10_col4\" class=\"data row10 col4\" >0.1</td>\n",
       "                        <td id=\"T_c665bb6e_da8d_11ea_a6ce_9cb6d09a001frow10_col5\" class=\"data row10 col5\" >0.52</td>\n",
       "                        <td id=\"T_c665bb6e_da8d_11ea_a6ce_9cb6d09a001frow10_col6\" class=\"data row10 col6\" >0.16</td>\n",
       "                        <td id=\"T_c665bb6e_da8d_11ea_a6ce_9cb6d09a001frow10_col7\" class=\"data row10 col7\" >0.47</td>\n",
       "            </tr>\n",
       "            <tr>\n",
       "                        <th id=\"T_c665bb6e_da8d_11ea_a6ce_9cb6d09a001flevel0_row11\" class=\"row_heading level0 row11\" >11</th>\n",
       "                        <td id=\"T_c665bb6e_da8d_11ea_a6ce_9cb6d09a001frow11_col0\" class=\"data row11 col0\" >K-Means Normalized</td>\n",
       "                        <td id=\"T_c665bb6e_da8d_11ea_a6ce_9cb6d09a001frow11_col1\" class=\"data row11 col1\" >doc2vec</td>\n",
       "                        <td id=\"T_c665bb6e_da8d_11ea_a6ce_9cb6d09a001frow11_col2\" class=\"data row11 col2\" >False</td>\n",
       "                        <td id=\"T_c665bb6e_da8d_11ea_a6ce_9cb6d09a001frow11_col3\" class=\"data row11 col3\" >False</td>\n",
       "                        <td id=\"T_c665bb6e_da8d_11ea_a6ce_9cb6d09a001frow11_col4\" class=\"data row11 col4\" >0.1</td>\n",
       "                        <td id=\"T_c665bb6e_da8d_11ea_a6ce_9cb6d09a001frow11_col5\" class=\"data row11 col5\" >0.41</td>\n",
       "                        <td id=\"T_c665bb6e_da8d_11ea_a6ce_9cb6d09a001frow11_col6\" class=\"data row11 col6\" >0.16</td>\n",
       "                        <td id=\"T_c665bb6e_da8d_11ea_a6ce_9cb6d09a001frow11_col7\" class=\"data row11 col7\" >0.59</td>\n",
       "            </tr>\n",
       "            <tr>\n",
       "                        <th id=\"T_c665bb6e_da8d_11ea_a6ce_9cb6d09a001flevel0_row12\" class=\"row_heading level0 row12\" >12</th>\n",
       "                        <td id=\"T_c665bb6e_da8d_11ea_a6ce_9cb6d09a001frow12_col0\" class=\"data row12 col0\" >K-Means Normalized</td>\n",
       "                        <td id=\"T_c665bb6e_da8d_11ea_a6ce_9cb6d09a001frow12_col1\" class=\"data row12 col1\" >doc2vec</td>\n",
       "                        <td id=\"T_c665bb6e_da8d_11ea_a6ce_9cb6d09a001frow12_col2\" class=\"data row12 col2\" >True</td>\n",
       "                        <td id=\"T_c665bb6e_da8d_11ea_a6ce_9cb6d09a001frow12_col3\" class=\"data row12 col3\" >False</td>\n",
       "                        <td id=\"T_c665bb6e_da8d_11ea_a6ce_9cb6d09a001frow12_col4\" class=\"data row12 col4\" >0.09</td>\n",
       "                        <td id=\"T_c665bb6e_da8d_11ea_a6ce_9cb6d09a001frow12_col5\" class=\"data row12 col5\" >0.45</td>\n",
       "                        <td id=\"T_c665bb6e_da8d_11ea_a6ce_9cb6d09a001frow12_col6\" class=\"data row12 col6\" >0.15</td>\n",
       "                        <td id=\"T_c665bb6e_da8d_11ea_a6ce_9cb6d09a001frow12_col7\" class=\"data row12 col7\" >0.52</td>\n",
       "            </tr>\n",
       "            <tr>\n",
       "                        <th id=\"T_c665bb6e_da8d_11ea_a6ce_9cb6d09a001flevel0_row13\" class=\"row_heading level0 row13\" >13</th>\n",
       "                        <td id=\"T_c665bb6e_da8d_11ea_a6ce_9cb6d09a001frow13_col0\" class=\"data row13 col0\" >K-Means non-Normalized</td>\n",
       "                        <td id=\"T_c665bb6e_da8d_11ea_a6ce_9cb6d09a001frow13_col1\" class=\"data row13 col1\" >doc2vec</td>\n",
       "                        <td id=\"T_c665bb6e_da8d_11ea_a6ce_9cb6d09a001frow13_col2\" class=\"data row13 col2\" >True</td>\n",
       "                        <td id=\"T_c665bb6e_da8d_11ea_a6ce_9cb6d09a001frow13_col3\" class=\"data row13 col3\" >False</td>\n",
       "                        <td id=\"T_c665bb6e_da8d_11ea_a6ce_9cb6d09a001frow13_col4\" class=\"data row13 col4\" >0.07</td>\n",
       "                        <td id=\"T_c665bb6e_da8d_11ea_a6ce_9cb6d09a001frow13_col5\" class=\"data row13 col5\" >0.41</td>\n",
       "                        <td id=\"T_c665bb6e_da8d_11ea_a6ce_9cb6d09a001frow13_col6\" class=\"data row13 col6\" >0.11</td>\n",
       "                        <td id=\"T_c665bb6e_da8d_11ea_a6ce_9cb6d09a001frow13_col7\" class=\"data row13 col7\" >0.57</td>\n",
       "            </tr>\n",
       "            <tr>\n",
       "                        <th id=\"T_c665bb6e_da8d_11ea_a6ce_9cb6d09a001flevel0_row14\" class=\"row_heading level0 row14\" >14</th>\n",
       "                        <td id=\"T_c665bb6e_da8d_11ea_a6ce_9cb6d09a001frow14_col0\" class=\"data row14 col0\" >K-Means non-Normalized</td>\n",
       "                        <td id=\"T_c665bb6e_da8d_11ea_a6ce_9cb6d09a001frow14_col1\" class=\"data row14 col1\" >doc2vec</td>\n",
       "                        <td id=\"T_c665bb6e_da8d_11ea_a6ce_9cb6d09a001frow14_col2\" class=\"data row14 col2\" >True</td>\n",
       "                        <td id=\"T_c665bb6e_da8d_11ea_a6ce_9cb6d09a001frow14_col3\" class=\"data row14 col3\" >True</td>\n",
       "                        <td id=\"T_c665bb6e_da8d_11ea_a6ce_9cb6d09a001frow14_col4\" class=\"data row14 col4\" >0.06</td>\n",
       "                        <td id=\"T_c665bb6e_da8d_11ea_a6ce_9cb6d09a001frow14_col5\" class=\"data row14 col5\" >0.23</td>\n",
       "                        <td id=\"T_c665bb6e_da8d_11ea_a6ce_9cb6d09a001frow14_col6\" class=\"data row14 col6\" >0.08</td>\n",
       "                        <td id=\"T_c665bb6e_da8d_11ea_a6ce_9cb6d09a001frow14_col7\" class=\"data row14 col7\" >0.69</td>\n",
       "            </tr>\n",
       "            <tr>\n",
       "                        <th id=\"T_c665bb6e_da8d_11ea_a6ce_9cb6d09a001flevel0_row15\" class=\"row_heading level0 row15\" >15</th>\n",
       "                        <td id=\"T_c665bb6e_da8d_11ea_a6ce_9cb6d09a001frow15_col0\" class=\"data row15 col0\" >K-Means non-Normalized</td>\n",
       "                        <td id=\"T_c665bb6e_da8d_11ea_a6ce_9cb6d09a001frow15_col1\" class=\"data row15 col1\" >doc2vec</td>\n",
       "                        <td id=\"T_c665bb6e_da8d_11ea_a6ce_9cb6d09a001frow15_col2\" class=\"data row15 col2\" >False</td>\n",
       "                        <td id=\"T_c665bb6e_da8d_11ea_a6ce_9cb6d09a001frow15_col3\" class=\"data row15 col3\" >False</td>\n",
       "                        <td id=\"T_c665bb6e_da8d_11ea_a6ce_9cb6d09a001frow15_col4\" class=\"data row15 col4\" >0.06</td>\n",
       "                        <td id=\"T_c665bb6e_da8d_11ea_a6ce_9cb6d09a001frow15_col5\" class=\"data row15 col5\" >0.04</td>\n",
       "                        <td id=\"T_c665bb6e_da8d_11ea_a6ce_9cb6d09a001frow15_col6\" class=\"data row15 col6\" >0.05</td>\n",
       "                        <td id=\"T_c665bb6e_da8d_11ea_a6ce_9cb6d09a001frow15_col7\" class=\"data row15 col7\" >0.84</td>\n",
       "            </tr>\n",
       "    </tbody></table>"
      ],
      "text/plain": [
       "<pandas.io.formats.style.Styler at 0x7f496b9bf7f0>"
      ]
     },
     "execution_count": 31,
     "metadata": {},
     "output_type": "execute_result"
    }
   ],
   "source": [
    "# scorecard = scorecard.sort_values(by='f1', ascending=False)\n",
    "# scorecard.reset_index(drop=True, inplace=True)\n",
    "\n",
    "# with open('scorecard.csv', mode='wt') as fout:\n",
    "#             scorecard.to_csv(fout,index=False)\n",
    "\n",
    "scorecard = pd.read_csv('scorecard.csv')\n",
    "        \n",
    "scorecard.style.apply(highlight_max, subset=['precision','recall','f1','accuracy'])"
   ]
  },
  {
   "cell_type": "markdown",
   "metadata": {},
   "source": [
    "> Clearly the Normalized, Logistic Regression is superior to the K-means classifier and slightly edge out the non-Normalized Logistic Regression. The inclusion of stopwords is a clear boost in sentiment retention. The inclusion of parts of speech (pos) seems to underperform the exclusion of parts of speech, albeit not by much. The Logistic Regression, Normalized\tdoc2vec\tmodel, with stopwords=True and pos=False, was the top scorer in all categories except recall, where it scored second, and precision where it score a close second. Next, we'll examine whether lemmas can provide additional sentiment retention, keeping stopwords throughout and, again, comparing with and without parts of speech.."
   ]
  },
  {
   "cell_type": "code",
   "execution_count": null,
   "metadata": {},
   "outputs": [],
   "source": [
    "for bul_pos in [True, False]:\n",
    "    pos = bul_pos\n",
    "\n",
    "    # Prepare document\n",
    "    documents = np.empty(len(comments), dtype=object)\n",
    "\n",
    "    # normalize corpus, stopwords=stopwords, pos=pos\n",
    "    for i, doc in enumerate(tqdm(comments.comment_text, \n",
    "                                 desc=f\"Tag Docs: w/ lemmas, pos={pos}\", \n",
    "                                 leave=False)):\n",
    "        documents[i] = TaggedDocument(lemmatize_corpus(doc, pos=pos), [i])\n",
    "\n",
    "    model = Doc2Vec(dm=1, vector_size=300, window=2, min_count=2, workers=cores, dm_mean=0, iter=20, seed=0)\n",
    "    model.build_vocab([x for x in tqdm(documents, leave=False)])\n",
    "    model.train(tqdm(documents, \n",
    "                     desc=f\"Train Model: w/ lemmas, pos={pos}\",\n",
    "                     leave=False), total_examples=model.corpus_count, epochs=model.iter)\n",
    "\n",
    "    Y, X = targets_vectors(model, documents)\n",
    "    X_norm = preprocessing.normalize(X, norm='l2')\n",
    "\n",
    "    norm_lemma_scores(X_norm, Y, True, bul_pos)"
   ]
  },
  {
   "cell_type": "code",
   "execution_count": 32,
   "metadata": {},
   "outputs": [
    {
     "data": {
      "text/html": [
       "<style  type=\"text/css\" >\n",
       "    #T_ca5ed89a_da8d_11ea_a6ce_9cb6d09a001frow0_col4 {\n",
       "            background-color:  lightsteelblue;\n",
       "        }    #T_ca5ed89a_da8d_11ea_a6ce_9cb6d09a001frow0_col5 {\n",
       "            background-color:  lightsteelblue;\n",
       "        }    #T_ca5ed89a_da8d_11ea_a6ce_9cb6d09a001frow0_col6 {\n",
       "            background-color:  lightsteelblue;\n",
       "        }    #T_ca5ed89a_da8d_11ea_a6ce_9cb6d09a001frow0_col7 {\n",
       "            background-color:  lightsteelblue;\n",
       "        }    #T_ca5ed89a_da8d_11ea_a6ce_9cb6d09a001frow1_col7 {\n",
       "            background-color:  lightsteelblue;\n",
       "        }    #T_ca5ed89a_da8d_11ea_a6ce_9cb6d09a001frow2_col7 {\n",
       "            background-color:  lightsteelblue;\n",
       "        }    #T_ca5ed89a_da8d_11ea_a6ce_9cb6d09a001frow3_col7 {\n",
       "            background-color:  lightsteelblue;\n",
       "        }    #T_ca5ed89a_da8d_11ea_a6ce_9cb6d09a001frow4_col4 {\n",
       "            background-color:  lightsteelblue;\n",
       "        }    #T_ca5ed89a_da8d_11ea_a6ce_9cb6d09a001frow4_col7 {\n",
       "            background-color:  lightsteelblue;\n",
       "        }</style><table id=\"T_ca5ed89a_da8d_11ea_a6ce_9cb6d09a001f\" ><thead>    <tr>        <th class=\"blank level0\" ></th>        <th class=\"col_heading level0 col0\" >model</th>        <th class=\"col_heading level0 col1\" >algorithm</th>        <th class=\"col_heading level0 col2\" >stopwords</th>        <th class=\"col_heading level0 col3\" >pos</th>        <th class=\"col_heading level0 col4\" >precision</th>        <th class=\"col_heading level0 col5\" >recall</th>        <th class=\"col_heading level0 col6\" >f1</th>        <th class=\"col_heading level0 col7\" >accuracy</th>    </tr></thead><tbody>\n",
       "                <tr>\n",
       "                        <th id=\"T_ca5ed89a_da8d_11ea_a6ce_9cb6d09a001flevel0_row0\" class=\"row_heading level0 row0\" >0</th>\n",
       "                        <td id=\"T_ca5ed89a_da8d_11ea_a6ce_9cb6d09a001frow0_col0\" class=\"data row0 col0\" >Lemmatized Log Reg Normalized</td>\n",
       "                        <td id=\"T_ca5ed89a_da8d_11ea_a6ce_9cb6d09a001frow0_col1\" class=\"data row0 col1\" >doc2vec</td>\n",
       "                        <td id=\"T_ca5ed89a_da8d_11ea_a6ce_9cb6d09a001frow0_col2\" class=\"data row0 col2\" >True</td>\n",
       "                        <td id=\"T_ca5ed89a_da8d_11ea_a6ce_9cb6d09a001frow0_col3\" class=\"data row0 col3\" >False</td>\n",
       "                        <td id=\"T_ca5ed89a_da8d_11ea_a6ce_9cb6d09a001frow0_col4\" class=\"data row0 col4\" >0.82</td>\n",
       "                        <td id=\"T_ca5ed89a_da8d_11ea_a6ce_9cb6d09a001frow0_col5\" class=\"data row0 col5\" >0.55</td>\n",
       "                        <td id=\"T_ca5ed89a_da8d_11ea_a6ce_9cb6d09a001frow0_col6\" class=\"data row0 col6\" >0.66</td>\n",
       "                        <td id=\"T_ca5ed89a_da8d_11ea_a6ce_9cb6d09a001frow0_col7\" class=\"data row0 col7\" >0.94</td>\n",
       "            </tr>\n",
       "            <tr>\n",
       "                        <th id=\"T_ca5ed89a_da8d_11ea_a6ce_9cb6d09a001flevel0_row1\" class=\"row_heading level0 row1\" >1</th>\n",
       "                        <td id=\"T_ca5ed89a_da8d_11ea_a6ce_9cb6d09a001frow1_col0\" class=\"data row1 col0\" >Logistic Regression Normalized</td>\n",
       "                        <td id=\"T_ca5ed89a_da8d_11ea_a6ce_9cb6d09a001frow1_col1\" class=\"data row1 col1\" >doc2vec</td>\n",
       "                        <td id=\"T_ca5ed89a_da8d_11ea_a6ce_9cb6d09a001frow1_col2\" class=\"data row1 col2\" >True</td>\n",
       "                        <td id=\"T_ca5ed89a_da8d_11ea_a6ce_9cb6d09a001frow1_col3\" class=\"data row1 col3\" >False</td>\n",
       "                        <td id=\"T_ca5ed89a_da8d_11ea_a6ce_9cb6d09a001frow1_col4\" class=\"data row1 col4\" >0.81</td>\n",
       "                        <td id=\"T_ca5ed89a_da8d_11ea_a6ce_9cb6d09a001frow1_col5\" class=\"data row1 col5\" >0.54</td>\n",
       "                        <td id=\"T_ca5ed89a_da8d_11ea_a6ce_9cb6d09a001frow1_col6\" class=\"data row1 col6\" >0.65</td>\n",
       "                        <td id=\"T_ca5ed89a_da8d_11ea_a6ce_9cb6d09a001frow1_col7\" class=\"data row1 col7\" >0.94</td>\n",
       "            </tr>\n",
       "            <tr>\n",
       "                        <th id=\"T_ca5ed89a_da8d_11ea_a6ce_9cb6d09a001flevel0_row2\" class=\"row_heading level0 row2\" >2</th>\n",
       "                        <td id=\"T_ca5ed89a_da8d_11ea_a6ce_9cb6d09a001frow2_col0\" class=\"data row2 col0\" >Logistic Regression Normalized</td>\n",
       "                        <td id=\"T_ca5ed89a_da8d_11ea_a6ce_9cb6d09a001frow2_col1\" class=\"data row2 col1\" >doc2vec</td>\n",
       "                        <td id=\"T_ca5ed89a_da8d_11ea_a6ce_9cb6d09a001frow2_col2\" class=\"data row2 col2\" >True</td>\n",
       "                        <td id=\"T_ca5ed89a_da8d_11ea_a6ce_9cb6d09a001frow2_col3\" class=\"data row2 col3\" >True</td>\n",
       "                        <td id=\"T_ca5ed89a_da8d_11ea_a6ce_9cb6d09a001frow2_col4\" class=\"data row2 col4\" >0.8</td>\n",
       "                        <td id=\"T_ca5ed89a_da8d_11ea_a6ce_9cb6d09a001frow2_col5\" class=\"data row2 col5\" >0.52</td>\n",
       "                        <td id=\"T_ca5ed89a_da8d_11ea_a6ce_9cb6d09a001frow2_col6\" class=\"data row2 col6\" >0.63</td>\n",
       "                        <td id=\"T_ca5ed89a_da8d_11ea_a6ce_9cb6d09a001frow2_col7\" class=\"data row2 col7\" >0.94</td>\n",
       "            </tr>\n",
       "            <tr>\n",
       "                        <th id=\"T_ca5ed89a_da8d_11ea_a6ce_9cb6d09a001flevel0_row3\" class=\"row_heading level0 row3\" >3</th>\n",
       "                        <td id=\"T_ca5ed89a_da8d_11ea_a6ce_9cb6d09a001frow3_col0\" class=\"data row3 col0\" >Lemmatized Log Reg Normalized</td>\n",
       "                        <td id=\"T_ca5ed89a_da8d_11ea_a6ce_9cb6d09a001frow3_col1\" class=\"data row3 col1\" >doc2vec</td>\n",
       "                        <td id=\"T_ca5ed89a_da8d_11ea_a6ce_9cb6d09a001frow3_col2\" class=\"data row3 col2\" >True</td>\n",
       "                        <td id=\"T_ca5ed89a_da8d_11ea_a6ce_9cb6d09a001frow3_col3\" class=\"data row3 col3\" >True</td>\n",
       "                        <td id=\"T_ca5ed89a_da8d_11ea_a6ce_9cb6d09a001frow3_col4\" class=\"data row3 col4\" >0.81</td>\n",
       "                        <td id=\"T_ca5ed89a_da8d_11ea_a6ce_9cb6d09a001frow3_col5\" class=\"data row3 col5\" >0.52</td>\n",
       "                        <td id=\"T_ca5ed89a_da8d_11ea_a6ce_9cb6d09a001frow3_col6\" class=\"data row3 col6\" >0.63</td>\n",
       "                        <td id=\"T_ca5ed89a_da8d_11ea_a6ce_9cb6d09a001frow3_col7\" class=\"data row3 col7\" >0.94</td>\n",
       "            </tr>\n",
       "            <tr>\n",
       "                        <th id=\"T_ca5ed89a_da8d_11ea_a6ce_9cb6d09a001flevel0_row4\" class=\"row_heading level0 row4\" >4</th>\n",
       "                        <td id=\"T_ca5ed89a_da8d_11ea_a6ce_9cb6d09a001frow4_col0\" class=\"data row4 col0\" >Logistic Regression Normalized</td>\n",
       "                        <td id=\"T_ca5ed89a_da8d_11ea_a6ce_9cb6d09a001frow4_col1\" class=\"data row4 col1\" >doc2vec</td>\n",
       "                        <td id=\"T_ca5ed89a_da8d_11ea_a6ce_9cb6d09a001frow4_col2\" class=\"data row4 col2\" >False</td>\n",
       "                        <td id=\"T_ca5ed89a_da8d_11ea_a6ce_9cb6d09a001frow4_col3\" class=\"data row4 col3\" >False</td>\n",
       "                        <td id=\"T_ca5ed89a_da8d_11ea_a6ce_9cb6d09a001frow4_col4\" class=\"data row4 col4\" >0.82</td>\n",
       "                        <td id=\"T_ca5ed89a_da8d_11ea_a6ce_9cb6d09a001frow4_col5\" class=\"data row4 col5\" >0.49</td>\n",
       "                        <td id=\"T_ca5ed89a_da8d_11ea_a6ce_9cb6d09a001frow4_col6\" class=\"data row4 col6\" >0.62</td>\n",
       "                        <td id=\"T_ca5ed89a_da8d_11ea_a6ce_9cb6d09a001frow4_col7\" class=\"data row4 col7\" >0.94</td>\n",
       "            </tr>\n",
       "    </tbody></table>"
      ],
      "text/plain": [
       "<pandas.io.formats.style.Styler at 0x7f496b9bf080>"
      ]
     },
     "execution_count": 32,
     "metadata": {},
     "output_type": "execute_result"
    }
   ],
   "source": [
    "# scorecard = scorecard.sort_values(by='f1', ascending=False)\n",
    "# scorecard.reset_index(drop=True, inplace=True)\n",
    "\n",
    "# with open('lemma_scorecard.csv', mode='wt') as fout:\n",
    "#             scorecard.to_csv(fout,index=False)\n",
    "\n",
    "scorecard = pd.read_csv('lemma_scorecard.csv')\n",
    "        \n",
    "scorecard.head().style.apply(highlight_max, subset=['precision','recall','f1','accuracy'])"
   ]
  },
  {
   "cell_type": "markdown",
   "metadata": {},
   "source": [
    "> Lemmatization has earned slight improvements for f-1, recall and precision scores while maintaining its accuracy score. Again, the exclusion of parts of speech tags slightly underperformed the model with its inclusion. We'll now run a Logistic Regression random search to tune hyperparameters."
   ]
  },
  {
   "cell_type": "code",
   "execution_count": null,
   "metadata": {},
   "outputs": [],
   "source": [
    "# Prepare document\n",
    "documents = np.empty(len(comments), dtype=object)\n",
    "\n",
    "# normalize corpus, stopwords=stopwords, pos=pos\n",
    "for i, doc in enumerate(tqdm(comments.comment_text, \n",
    "                             desc=f\"Tag Docs: w/ lemmas, pos=False\", \n",
    "                             leave=False)):\n",
    "    documents[i] = TaggedDocument(lemmatize_corpus(doc, pos=False), [i])"
   ]
  },
  {
   "cell_type": "code",
   "execution_count": 19,
   "metadata": {},
   "outputs": [],
   "source": [
    "# RUN ONCE\n",
    "# results = pd.concat(Doc2Vec_RandomSearch(documents))"
   ]
  },
  {
   "cell_type": "code",
   "execution_count": 33,
   "metadata": {},
   "outputs": [
    {
     "data": {
      "text/html": [
       "<style  type=\"text/css\" >\n",
       "    #T_d1b289e8_da8d_11ea_a6ce_9cb6d09a001frow0_col8 {\n",
       "            background-color:  lightsteelblue;\n",
       "        }    #T_d1b289e8_da8d_11ea_a6ce_9cb6d09a001frow0_col10 {\n",
       "            background-color:  lightsteelblue;\n",
       "        }    #T_d1b289e8_da8d_11ea_a6ce_9cb6d09a001frow0_col12 {\n",
       "            background-color:  lightsteelblue;\n",
       "        }    #T_d1b289e8_da8d_11ea_a6ce_9cb6d09a001frow4_col6 {\n",
       "            background-color:  lightsteelblue;\n",
       "        }</style><table id=\"T_d1b289e8_da8d_11ea_a6ce_9cb6d09a001f\" ><thead>    <tr>        <th class=\"blank level0\" ></th>        <th class=\"col_heading level0 col0\" >C</th>        <th class=\"col_heading level0 col1\" >max_iter</th>        <th class=\"col_heading level0 col2\" >class_weight</th>        <th class=\"col_heading level0 col3\" >solver</th>        <th class=\"col_heading level0 col4\" >d2v_params</th>        <th class=\"col_heading level0 col5\" >train_precision</th>        <th class=\"col_heading level0 col6\" >test_precision</th>        <th class=\"col_heading level0 col7\" >train_recall</th>        <th class=\"col_heading level0 col8\" >test_recall</th>        <th class=\"col_heading level0 col9\" >train_acc</th>        <th class=\"col_heading level0 col10\" >test_acc</th>        <th class=\"col_heading level0 col11\" >train_f1</th>        <th class=\"col_heading level0 col12\" >test_f1</th>    </tr></thead><tbody>\n",
       "                <tr>\n",
       "                        <th id=\"T_d1b289e8_da8d_11ea_a6ce_9cb6d09a001flevel0_row0\" class=\"row_heading level0 row0\" >0</th>\n",
       "                        <td id=\"T_d1b289e8_da8d_11ea_a6ce_9cb6d09a001frow0_col0\" class=\"data row0 col0\" >1000</td>\n",
       "                        <td id=\"T_d1b289e8_da8d_11ea_a6ce_9cb6d09a001frow0_col1\" class=\"data row0 col1\" >1000</td>\n",
       "                        <td id=\"T_d1b289e8_da8d_11ea_a6ce_9cb6d09a001frow0_col2\" class=\"data row0 col2\" >nan</td>\n",
       "                        <td id=\"T_d1b289e8_da8d_11ea_a6ce_9cb6d09a001frow0_col3\" class=\"data row0 col3\" >sag</td>\n",
       "                        <td id=\"T_d1b289e8_da8d_11ea_a6ce_9cb6d09a001frow0_col4\" class=\"data row0 col4\" >{'dm': 0, 'vector_size': 300, 'window': 3, 'dm_mean': 1, 'iter': 50}</td>\n",
       "                        <td id=\"T_d1b289e8_da8d_11ea_a6ce_9cb6d09a001frow0_col5\" class=\"data row0 col5\" >0.830483</td>\n",
       "                        <td id=\"T_d1b289e8_da8d_11ea_a6ce_9cb6d09a001frow0_col6\" class=\"data row0 col6\" >0.820856</td>\n",
       "                        <td id=\"T_d1b289e8_da8d_11ea_a6ce_9cb6d09a001frow0_col7\" class=\"data row0 col7\" >0.660165</td>\n",
       "                        <td id=\"T_d1b289e8_da8d_11ea_a6ce_9cb6d09a001frow0_col8\" class=\"data row0 col8\" >0.647679</td>\n",
       "                        <td id=\"T_d1b289e8_da8d_11ea_a6ce_9cb6d09a001frow0_col9\" class=\"data row0 col9\" >0.954114</td>\n",
       "                        <td id=\"T_d1b289e8_da8d_11ea_a6ce_9cb6d09a001frow0_col10\" class=\"data row0 col10\" >0.9532</td>\n",
       "                        <td id=\"T_d1b289e8_da8d_11ea_a6ce_9cb6d09a001frow0_col11\" class=\"data row0 col11\" >0.735594</td>\n",
       "                        <td id=\"T_d1b289e8_da8d_11ea_a6ce_9cb6d09a001frow0_col12\" class=\"data row0 col12\" >0.724057</td>\n",
       "            </tr>\n",
       "            <tr>\n",
       "                        <th id=\"T_d1b289e8_da8d_11ea_a6ce_9cb6d09a001flevel0_row1\" class=\"row_heading level0 row1\" >1</th>\n",
       "                        <td id=\"T_d1b289e8_da8d_11ea_a6ce_9cb6d09a001frow1_col0\" class=\"data row1 col0\" >5</td>\n",
       "                        <td id=\"T_d1b289e8_da8d_11ea_a6ce_9cb6d09a001frow1_col1\" class=\"data row1 col1\" >2000</td>\n",
       "                        <td id=\"T_d1b289e8_da8d_11ea_a6ce_9cb6d09a001frow1_col2\" class=\"data row1 col2\" >nan</td>\n",
       "                        <td id=\"T_d1b289e8_da8d_11ea_a6ce_9cb6d09a001frow1_col3\" class=\"data row1 col3\" >sag</td>\n",
       "                        <td id=\"T_d1b289e8_da8d_11ea_a6ce_9cb6d09a001frow1_col4\" class=\"data row1 col4\" >{'dm': 0, 'vector_size': 300, 'window': 3, 'dm_mean': 1, 'iter': 50}</td>\n",
       "                        <td id=\"T_d1b289e8_da8d_11ea_a6ce_9cb6d09a001frow1_col5\" class=\"data row1 col5\" >0.835995</td>\n",
       "                        <td id=\"T_d1b289e8_da8d_11ea_a6ce_9cb6d09a001frow1_col6\" class=\"data row1 col6\" >0.828204</td>\n",
       "                        <td id=\"T_d1b289e8_da8d_11ea_a6ce_9cb6d09a001frow1_col7\" class=\"data row1 col7\" >0.657506</td>\n",
       "                        <td id=\"T_d1b289e8_da8d_11ea_a6ce_9cb6d09a001frow1_col8\" class=\"data row1 col8\" >0.633966</td>\n",
       "                        <td id=\"T_d1b289e8_da8d_11ea_a6ce_9cb6d09a001frow1_col9\" class=\"data row1 col9\" >0.954414</td>\n",
       "                        <td id=\"T_d1b289e8_da8d_11ea_a6ce_9cb6d09a001frow1_col10\" class=\"data row1 col10\" >0.952833</td>\n",
       "                        <td id=\"T_d1b289e8_da8d_11ea_a6ce_9cb6d09a001frow1_col11\" class=\"data row1 col11\" >0.736085</td>\n",
       "                        <td id=\"T_d1b289e8_da8d_11ea_a6ce_9cb6d09a001frow1_col12\" class=\"data row1 col12\" >0.718184</td>\n",
       "            </tr>\n",
       "            <tr>\n",
       "                        <th id=\"T_d1b289e8_da8d_11ea_a6ce_9cb6d09a001flevel0_row2\" class=\"row_heading level0 row2\" >2</th>\n",
       "                        <td id=\"T_d1b289e8_da8d_11ea_a6ce_9cb6d09a001frow2_col0\" class=\"data row2 col0\" >5</td>\n",
       "                        <td id=\"T_d1b289e8_da8d_11ea_a6ce_9cb6d09a001frow2_col1\" class=\"data row2 col1\" >2000</td>\n",
       "                        <td id=\"T_d1b289e8_da8d_11ea_a6ce_9cb6d09a001frow2_col2\" class=\"data row2 col2\" >nan</td>\n",
       "                        <td id=\"T_d1b289e8_da8d_11ea_a6ce_9cb6d09a001frow2_col3\" class=\"data row2 col3\" >saga</td>\n",
       "                        <td id=\"T_d1b289e8_da8d_11ea_a6ce_9cb6d09a001frow2_col4\" class=\"data row2 col4\" >{'dm': 0, 'vector_size': 300, 'window': 3, 'dm_mean': 1, 'iter': 50}</td>\n",
       "                        <td id=\"T_d1b289e8_da8d_11ea_a6ce_9cb6d09a001frow2_col5\" class=\"data row2 col5\" >0.835995</td>\n",
       "                        <td id=\"T_d1b289e8_da8d_11ea_a6ce_9cb6d09a001frow2_col6\" class=\"data row2 col6\" >0.828204</td>\n",
       "                        <td id=\"T_d1b289e8_da8d_11ea_a6ce_9cb6d09a001frow2_col7\" class=\"data row2 col7\" >0.657506</td>\n",
       "                        <td id=\"T_d1b289e8_da8d_11ea_a6ce_9cb6d09a001frow2_col8\" class=\"data row2 col8\" >0.633966</td>\n",
       "                        <td id=\"T_d1b289e8_da8d_11ea_a6ce_9cb6d09a001frow2_col9\" class=\"data row2 col9\" >0.954414</td>\n",
       "                        <td id=\"T_d1b289e8_da8d_11ea_a6ce_9cb6d09a001frow2_col10\" class=\"data row2 col10\" >0.952833</td>\n",
       "                        <td id=\"T_d1b289e8_da8d_11ea_a6ce_9cb6d09a001frow2_col11\" class=\"data row2 col11\" >0.736085</td>\n",
       "                        <td id=\"T_d1b289e8_da8d_11ea_a6ce_9cb6d09a001frow2_col12\" class=\"data row2 col12\" >0.718184</td>\n",
       "            </tr>\n",
       "            <tr>\n",
       "                        <th id=\"T_d1b289e8_da8d_11ea_a6ce_9cb6d09a001flevel0_row3\" class=\"row_heading level0 row3\" >3</th>\n",
       "                        <td id=\"T_d1b289e8_da8d_11ea_a6ce_9cb6d09a001frow3_col0\" class=\"data row3 col0\" >100000</td>\n",
       "                        <td id=\"T_d1b289e8_da8d_11ea_a6ce_9cb6d09a001frow3_col1\" class=\"data row3 col1\" >2000</td>\n",
       "                        <td id=\"T_d1b289e8_da8d_11ea_a6ce_9cb6d09a001frow3_col2\" class=\"data row3 col2\" >nan</td>\n",
       "                        <td id=\"T_d1b289e8_da8d_11ea_a6ce_9cb6d09a001frow3_col3\" class=\"data row3 col3\" >newton-cg</td>\n",
       "                        <td id=\"T_d1b289e8_da8d_11ea_a6ce_9cb6d09a001frow3_col4\" class=\"data row3 col4\" >{'dm': 0, 'vector_size': 300, 'window': 3, 'dm_mean': 1, 'iter': 50}</td>\n",
       "                        <td id=\"T_d1b289e8_da8d_11ea_a6ce_9cb6d09a001frow3_col5\" class=\"data row3 col5\" >0.832091</td>\n",
       "                        <td id=\"T_d1b289e8_da8d_11ea_a6ce_9cb6d09a001frow3_col6\" class=\"data row3 col6\" >0.822808</td>\n",
       "                        <td id=\"T_d1b289e8_da8d_11ea_a6ce_9cb6d09a001frow3_col7\" class=\"data row3 col7\" >0.659722</td>\n",
       "                        <td id=\"T_d1b289e8_da8d_11ea_a6ce_9cb6d09a001frow3_col8\" class=\"data row3 col8\" >0.636779</td>\n",
       "                        <td id=\"T_d1b289e8_da8d_11ea_a6ce_9cb6d09a001frow3_col9\" class=\"data row3 col9\" >0.954229</td>\n",
       "                        <td id=\"T_d1b289e8_da8d_11ea_a6ce_9cb6d09a001frow3_col10\" class=\"data row3 col10\" >0.952567</td>\n",
       "                        <td id=\"T_d1b289e8_da8d_11ea_a6ce_9cb6d09a001frow3_col11\" class=\"data row3 col11\" >0.735949</td>\n",
       "                        <td id=\"T_d1b289e8_da8d_11ea_a6ce_9cb6d09a001frow3_col12\" class=\"data row3 col12\" >0.717939</td>\n",
       "            </tr>\n",
       "            <tr>\n",
       "                        <th id=\"T_d1b289e8_da8d_11ea_a6ce_9cb6d09a001flevel0_row4\" class=\"row_heading level0 row4\" >4</th>\n",
       "                        <td id=\"T_d1b289e8_da8d_11ea_a6ce_9cb6d09a001frow4_col0\" class=\"data row4 col0\" >1</td>\n",
       "                        <td id=\"T_d1b289e8_da8d_11ea_a6ce_9cb6d09a001frow4_col1\" class=\"data row4 col1\" >3000</td>\n",
       "                        <td id=\"T_d1b289e8_da8d_11ea_a6ce_9cb6d09a001frow4_col2\" class=\"data row4 col2\" >nan</td>\n",
       "                        <td id=\"T_d1b289e8_da8d_11ea_a6ce_9cb6d09a001frow4_col3\" class=\"data row4 col3\" >sag</td>\n",
       "                        <td id=\"T_d1b289e8_da8d_11ea_a6ce_9cb6d09a001frow4_col4\" class=\"data row4 col4\" >{'dm': 0, 'vector_size': 300, 'window': 3, 'dm_mean': 1, 'iter': 50}</td>\n",
       "                        <td id=\"T_d1b289e8_da8d_11ea_a6ce_9cb6d09a001frow4_col5\" class=\"data row4 col5\" >0.843574</td>\n",
       "                        <td id=\"T_d1b289e8_da8d_11ea_a6ce_9cb6d09a001frow4_col6\" class=\"data row4 col6\" >0.835905</td>\n",
       "                        <td id=\"T_d1b289e8_da8d_11ea_a6ce_9cb6d09a001frow4_col7\" class=\"data row4 col7\" >0.643026</td>\n",
       "                        <td id=\"T_d1b289e8_da8d_11ea_a6ce_9cb6d09a001frow4_col8\" class=\"data row4 col8\" >0.628692</td>\n",
       "                        <td id=\"T_d1b289e8_da8d_11ea_a6ce_9cb6d09a001frow4_col9\" class=\"data row4 col9\" >0.953957</td>\n",
       "                        <td id=\"T_d1b289e8_da8d_11ea_a6ce_9cb6d09a001frow4_col10\" class=\"data row4 col10\" >0.9531</td>\n",
       "                        <td id=\"T_d1b289e8_da8d_11ea_a6ce_9cb6d09a001frow4_col11\" class=\"data row4 col11\" >0.729773</td>\n",
       "                        <td id=\"T_d1b289e8_da8d_11ea_a6ce_9cb6d09a001frow4_col12\" class=\"data row4 col12\" >0.71764</td>\n",
       "            </tr>\n",
       "    </tbody></table>"
      ],
      "text/plain": [
       "<pandas.io.formats.style.Styler at 0x7f496b9bfd68>"
      ]
     },
     "execution_count": 33,
     "metadata": {},
     "output_type": "execute_result"
    }
   ],
   "source": [
    "# results = results.sort_values(by='test_f1', ascending=False)\n",
    "# results.reset_index(drop=True, inplace=True)\n",
    "\n",
    "# with open('final_scorecard.csv', mode='wt') as fout:\n",
    "#             results.to_csv(fout,index=False) \n",
    "results = pd.read_csv('final_scorecard.csv').head()\n",
    "        \n",
    "results.style.apply(highlight_max, subset=['test_precision','test_recall','test_f1','test_acc'])"
   ]
  },
  {
   "cell_type": "markdown",
   "metadata": {},
   "source": [
    "# The Best Doc2vec Recipe\n",
    "\n",
    "> + Lemmatized documents, normalized vectors\n",
    "+ Doc2Vec(dm=0, vector_size=300, window=3, dm_mean=1, iter=50)\n",
    "+ LogisticRegression(C=1000, max_iter=1000, class_weight=None, solver='sag')\n",
    "\n",
    "With the above pipeline, we've managed to maximize our preferred criteria, `test_f1`. With a test accuracy of 0.9532, we've captured over 50% of the remaining accuracy that was up for grabs when given a baseline accuracy of nearly 90% for all non-abusive comments. Our recall score represents our minority class, and we are capturing almost 65% of the `toxic` comments with over 82% of the observations predicted to be `toxic` actually being toxic."
   ]
  },
  {
   "cell_type": "code",
   "execution_count": 206,
   "metadata": {},
   "outputs": [],
   "source": [
    "# Modified targets_vectors function, now taking 'target' as a parameter\n",
    "def targets_vectors(model, input_docs, target):\n",
    "    sents = input_docs\n",
    "    model.random.seed(0)\n",
    "    targets, feature_vectors = zip(*[(comments.loc[i,target], model.infer_vector(doc.words, steps=20)) for i, doc in tqdm(enumerate(sents),leave=False)])\n",
    "    return targets, feature_vectors"
   ]
  },
  {
   "cell_type": "markdown",
   "metadata": {},
   "source": [
    "> We now extend our optimal model to all of the classes."
   ]
  },
  {
   "cell_type": "code",
   "execution_count": 119,
   "metadata": {
    "scrolled": true
   },
   "outputs": [
    {
     "data": {
      "application/vnd.jupyter.widget-view+json": {
       "model_id": "",
       "version_major": 2,
       "version_minor": 0
      },
      "text/plain": [
       "HBox(children=(FloatProgress(value=0.0, description='Build vocab:', max=100000.0, style=ProgressStyle(descript…"
      ]
     },
     "metadata": {},
     "output_type": "display_data"
    },
    {
     "data": {
      "application/vnd.jupyter.widget-view+json": {
       "model_id": "",
       "version_major": 2,
       "version_minor": 0
      },
      "text/plain": [
       "HBox(children=(FloatProgress(value=0.0, description='Train Model:', max=100000.0, style=ProgressStyle(descript…"
      ]
     },
     "metadata": {},
     "output_type": "display_data"
    },
    {
     "data": {
      "application/vnd.jupyter.widget-view+json": {
       "model_id": "",
       "version_major": 2,
       "version_minor": 0
      },
      "text/plain": [
       "HBox(children=(FloatProgress(value=0.0, max=100000.0), HTML(value='')))"
      ]
     },
     "metadata": {},
     "output_type": "display_data"
    },
    {
     "name": "stdout",
     "output_type": "stream",
     "text": [
      "Log_loss score for toxic is -0.12608957538569543\n",
      "Confusion Matrix for toxic:\n",
      " [[26807   349]\n",
      " [ 1041  1803]]\n",
      "              precision    recall  f1-score   support\n",
      "\n",
      "           0       0.96      0.99      0.97     27156\n",
      "           1       0.84      0.63      0.72      2844\n",
      "\n",
      "    accuracy                           0.95     30000\n",
      "   macro avg       0.90      0.81      0.85     30000\n",
      "weighted avg       0.95      0.95      0.95     30000\n",
      "\n"
     ]
    },
    {
     "data": {
      "application/vnd.jupyter.widget-view+json": {
       "model_id": "",
       "version_major": 2,
       "version_minor": 0
      },
      "text/plain": [
       "HBox(children=(FloatProgress(value=0.0, max=100000.0), HTML(value='')))"
      ]
     },
     "metadata": {},
     "output_type": "display_data"
    },
    {
     "name": "stdout",
     "output_type": "stream",
     "text": [
      "Log_loss score for severe_toxic is -0.027014954122679874\n",
      "Confusion Matrix for severe_toxic:\n",
      " [[29627    57]\n",
      " [  262    54]]\n",
      "              precision    recall  f1-score   support\n",
      "\n",
      "           0       0.99      1.00      0.99     29684\n",
      "           1       0.49      0.17      0.25       316\n",
      "\n",
      "    accuracy                           0.99     30000\n",
      "   macro avg       0.74      0.58      0.62     30000\n",
      "weighted avg       0.99      0.99      0.99     30000\n",
      "\n"
     ]
    },
    {
     "data": {
      "application/vnd.jupyter.widget-view+json": {
       "model_id": "",
       "version_major": 2,
       "version_minor": 0
      },
      "text/plain": [
       "HBox(children=(FloatProgress(value=0.0, max=100000.0), HTML(value='')))"
      ]
     },
     "metadata": {},
     "output_type": "display_data"
    },
    {
     "name": "stdout",
     "output_type": "stream",
     "text": [
      "Log_loss score for obscene is -0.06876860305325452\n",
      "Confusion Matrix for obscene:\n",
      " [[28242   180]\n",
      " [  540  1038]]\n",
      "              precision    recall  f1-score   support\n",
      "\n",
      "           0       0.98      0.99      0.99     28422\n",
      "           1       0.85      0.66      0.74      1578\n",
      "\n",
      "    accuracy                           0.98     30000\n",
      "   macro avg       0.92      0.83      0.86     30000\n",
      "weighted avg       0.97      0.98      0.97     30000\n",
      "\n"
     ]
    },
    {
     "data": {
      "application/vnd.jupyter.widget-view+json": {
       "model_id": "",
       "version_major": 2,
       "version_minor": 0
      },
      "text/plain": [
       "HBox(children=(FloatProgress(value=0.0, max=100000.0), HTML(value='')))"
      ]
     },
     "metadata": {},
     "output_type": "display_data"
    },
    {
     "name": "stdout",
     "output_type": "stream",
     "text": [
      "Log_loss score for threat is -0.010428913922936826\n",
      "Confusion Matrix for threat:\n",
      " [[29903     1]\n",
      " [   87     9]]\n",
      "              precision    recall  f1-score   support\n",
      "\n",
      "           0       1.00      1.00      1.00     29904\n",
      "           1       0.90      0.09      0.17        96\n",
      "\n",
      "    accuracy                           1.00     30000\n",
      "   macro avg       0.95      0.55      0.58     30000\n",
      "weighted avg       1.00      1.00      1.00     30000\n",
      "\n"
     ]
    },
    {
     "data": {
      "application/vnd.jupyter.widget-view+json": {
       "model_id": "",
       "version_major": 2,
       "version_minor": 0
      },
      "text/plain": [
       "HBox(children=(FloatProgress(value=0.0, max=100000.0), HTML(value='')))"
      ]
     },
     "metadata": {},
     "output_type": "display_data"
    },
    {
     "name": "stdout",
     "output_type": "stream",
     "text": [
      "Log_loss score for insult is -0.08016496842596106\n",
      "Confusion Matrix for insult:\n",
      " [[28266   257]\n",
      " [  669   808]]\n",
      "              precision    recall  f1-score   support\n",
      "\n",
      "           0       0.98      0.99      0.98     28523\n",
      "           1       0.76      0.55      0.64      1477\n",
      "\n",
      "    accuracy                           0.97     30000\n",
      "   macro avg       0.87      0.77      0.81     30000\n",
      "weighted avg       0.97      0.97      0.97     30000\n",
      "\n"
     ]
    },
    {
     "data": {
      "application/vnd.jupyter.widget-view+json": {
       "model_id": "",
       "version_major": 2,
       "version_minor": 0
      },
      "text/plain": [
       "HBox(children=(FloatProgress(value=0.0, max=100000.0), HTML(value='')))"
      ]
     },
     "metadata": {},
     "output_type": "display_data"
    },
    {
     "name": "stdout",
     "output_type": "stream",
     "text": [
      "Log_loss score for identity_hate is -0.025609311483858456\n",
      "Confusion Matrix for identity_hate:\n",
      " [[29733    16]\n",
      " [  214    37]]\n",
      "              precision    recall  f1-score   support\n",
      "\n",
      "           0       0.99      1.00      1.00     29749\n",
      "           1       0.70      0.15      0.24       251\n",
      "\n",
      "    accuracy                           0.99     30000\n",
      "   macro avg       0.85      0.57      0.62     30000\n",
      "weighted avg       0.99      0.99      0.99     30000\n",
      "\n"
     ]
    }
   ],
   "source": [
    "# Use optimal random search criteria\n",
    "lr = LogisticRegression(C=1, max_iter=1000, class_weight=None, solver='sag')\n",
    "model = Doc2Vec(dm=0, vector_size=300, window=3, dm_mean=1, iter=50, workers=cores, seed=0)                \n",
    "model.build_vocab([x for x in tqdm(documents, desc='Build vocab:', leave=False)])\n",
    "model.train(tqdm(documents, \n",
    "                 desc=f\"Train Model:\",\n",
    "                 leave=False), total_examples=model.corpus_count, epochs=model.iter)\n",
    "                    \n",
    "for target in ['toxic','severe_toxic','obscene','threat','insult','identity_hate']:\n",
    "    Y, X = targets_vectors(model, documents, target)\n",
    "    X_norm = preprocessing.normalize(X, norm='l2')\n",
    "                \n",
    "    X_train, X_test, y_train, y_test = train_test_split(X_norm, Y, test_size=0.3, random_state=0)\n",
    "    lr.fit(X_train, y_train)\n",
    "    y_pred = lr.predict(X_test)\n",
    "    \n",
    "    log_loss = np.mean(cross_val_score(lr, X_norm, Y, cv=5, scoring='neg_log_loss'))\n",
    "    print(f'Log_loss score for {target} is {log_loss}')\n",
    "    print(f'Confusion Matrix for {target}:\\n {confusion_matrix(y_test, y_pred)}')\n",
    "    print(classification_report(y_test, y_pred))          "
   ]
  },
  {
   "cell_type": "markdown",
   "metadata": {},
   "source": [
    "> Although still low in some cases, the f1 score for the classes, other than `toxic`, have made improvements with the Doc2vec model:\n",
    "\n",
    "+ toxic: 0.72 (up from 0.64 for Naive Bayes)\n",
    "+ severe_toxic: 0.25 (up from 0.17)\n",
    "+ obscene: 0.74 (up from 0.68)\n",
    "+ threat: 0.17 (up from 0.00)\n",
    "+ insult: 0.64 (up from 0.57)\n",
    "+ identity_hate: 0.24 (up from 0.09)\n",
    "\n",
    "\n",
    "# TF-IDF"
   ]
  },
  {
   "cell_type": "code",
   "execution_count": 16,
   "metadata": {},
   "outputs": [
    {
     "data": {
      "text/plain": [
       "TfidfVectorizer(analyzer='word', binary=False, decode_error='strict',\n",
       "                dtype=<class 'numpy.float64'>, encoding='utf-8',\n",
       "                input='content', lowercase=True, max_df=0.9, max_features=None,\n",
       "                min_df=100, ngram_range=(1, 1), norm='l2', preprocessor=None,\n",
       "                smooth_idf=True, stop_words='english', strip_accents=None,\n",
       "                sublinear_tf=True, token_pattern='\\\\w{2,}', tokenizer=None,\n",
       "                use_idf=True, vocabulary=None)"
      ]
     },
     "execution_count": 16,
     "metadata": {},
     "output_type": "execute_result"
    }
   ],
   "source": [
    "from sklearn.feature_extraction.text import TfidfVectorizer\n",
    "tfidf_vectorizer = TfidfVectorizer(max_df=0.9, min_df=100, stop_words='english',lowercase=True, \n",
    "                                   use_idf=True, token_pattern=r'\\w{2,}', sublinear_tf=True)\n",
    "tfidf_vectorizer"
   ]
  },
  {
   "cell_type": "code",
   "execution_count": 17,
   "metadata": {},
   "outputs": [
    {
     "data": {
      "text/plain": [
       "(100000, 3412)"
      ]
     },
     "execution_count": 17,
     "metadata": {},
     "output_type": "execute_result"
    }
   ],
   "source": [
    "vectors = tfidf_vectorizer.fit_transform(comments.comment_text)\n",
    "vectors = vectors.todense()\n",
    "vectors = pd.DataFrame(vectors, columns=tfidf_vectorizer.get_feature_names())\n",
    "vectors.shape"
   ]
  },
  {
   "cell_type": "code",
   "execution_count": 18,
   "metadata": {},
   "outputs": [],
   "source": [
    "vectors['unique_words'] = 0\n",
    "for idx, comment in enumerate(comments.comment_text):\n",
    "    val = len(set(comment))/(len(comment) + 1)\n",
    "    vectors['unique_words'].iloc[idx] "
   ]
  },
  {
   "cell_type": "code",
   "execution_count": 19,
   "metadata": {},
   "outputs": [
    {
     "data": {
      "text/html": [
       "<div>\n",
       "<style scoped>\n",
       "    .dataframe tbody tr th:only-of-type {\n",
       "        vertical-align: middle;\n",
       "    }\n",
       "\n",
       "    .dataframe tbody tr th {\n",
       "        vertical-align: top;\n",
       "    }\n",
       "\n",
       "    .dataframe thead th {\n",
       "        text-align: right;\n",
       "    }\n",
       "</style>\n",
       "<table border=\"1\" class=\"dataframe\">\n",
       "  <thead>\n",
       "    <tr style=\"text-align: right;\">\n",
       "      <th></th>\n",
       "      <th>ability</th>\n",
       "      <th>able</th>\n",
       "      <th>absence</th>\n",
       "      <th>absolute</th>\n",
       "      <th>absolutely</th>\n",
       "      <th>absurd</th>\n",
       "      <th>abuse</th>\n",
       "      <th>abused</th>\n",
       "      <th>abusing</th>\n",
       "      <th>abusive</th>\n",
       "      <th>...</th>\n",
       "      <th>yep</th>\n",
       "      <th>yes</th>\n",
       "      <th>yesterday</th>\n",
       "      <th>yo</th>\n",
       "      <th>york</th>\n",
       "      <th>young</th>\n",
       "      <th>youre</th>\n",
       "      <th>youtube</th>\n",
       "      <th>zero</th>\n",
       "      <th>unique_words</th>\n",
       "    </tr>\n",
       "  </thead>\n",
       "  <tbody>\n",
       "    <tr>\n",
       "      <th>0</th>\n",
       "      <td>0.0</td>\n",
       "      <td>0.0</td>\n",
       "      <td>0.0</td>\n",
       "      <td>0.0</td>\n",
       "      <td>0.0</td>\n",
       "      <td>0.0</td>\n",
       "      <td>0.0</td>\n",
       "      <td>0.0</td>\n",
       "      <td>0.0</td>\n",
       "      <td>0.0</td>\n",
       "      <td>...</td>\n",
       "      <td>0.0</td>\n",
       "      <td>0.0</td>\n",
       "      <td>0.0</td>\n",
       "      <td>0.0</td>\n",
       "      <td>0.269097</td>\n",
       "      <td>0.0</td>\n",
       "      <td>0.0</td>\n",
       "      <td>0.0</td>\n",
       "      <td>0.0</td>\n",
       "      <td>0</td>\n",
       "    </tr>\n",
       "  </tbody>\n",
       "</table>\n",
       "<p>1 rows × 3413 columns</p>\n",
       "</div>"
      ],
      "text/plain": [
       "   ability  able  absence  absolute  absolutely  absurd  abuse  abused  \\\n",
       "0      0.0   0.0      0.0       0.0         0.0     0.0    0.0     0.0   \n",
       "\n",
       "   abusing  abusive  ...  yep  yes  yesterday   yo      york  young  youre  \\\n",
       "0      0.0      0.0  ...  0.0  0.0        0.0  0.0  0.269097    0.0    0.0   \n",
       "\n",
       "   youtube  zero  unique_words  \n",
       "0      0.0   0.0             0  \n",
       "\n",
       "[1 rows x 3413 columns]"
      ]
     },
     "execution_count": 19,
     "metadata": {},
     "output_type": "execute_result"
    }
   ],
   "source": [
    "vectors.head(1)"
   ]
  },
  {
   "cell_type": "code",
   "execution_count": 20,
   "metadata": {},
   "outputs": [
    {
     "data": {
      "text/html": [
       "<div>\n",
       "<style scoped>\n",
       "    .dataframe tbody tr th:only-of-type {\n",
       "        vertical-align: middle;\n",
       "    }\n",
       "\n",
       "    .dataframe tbody tr th {\n",
       "        vertical-align: top;\n",
       "    }\n",
       "\n",
       "    .dataframe thead th {\n",
       "        text-align: right;\n",
       "    }\n",
       "</style>\n",
       "<table border=\"1\" class=\"dataframe\">\n",
       "  <thead>\n",
       "    <tr style=\"text-align: right;\">\n",
       "      <th></th>\n",
       "      <th>toxic</th>\n",
       "      <th>severe_toxic</th>\n",
       "      <th>obscene</th>\n",
       "      <th>threat</th>\n",
       "      <th>insult</th>\n",
       "      <th>identity_hate</th>\n",
       "    </tr>\n",
       "  </thead>\n",
       "  <tbody>\n",
       "    <tr>\n",
       "      <th>0</th>\n",
       "      <td>0</td>\n",
       "      <td>0</td>\n",
       "      <td>0</td>\n",
       "      <td>0</td>\n",
       "      <td>0</td>\n",
       "      <td>0</td>\n",
       "    </tr>\n",
       "  </tbody>\n",
       "</table>\n",
       "</div>"
      ],
      "text/plain": [
       "   toxic  severe_toxic  obscene  threat  insult  identity_hate\n",
       "0      0             0        0       0       0              0"
      ]
     },
     "execution_count": 20,
     "metadata": {},
     "output_type": "execute_result"
    }
   ],
   "source": [
    "Y = comments.iloc[:, 1:]\n",
    "Y.head(1)"
   ]
  },
  {
   "cell_type": "code",
   "execution_count": 28,
   "metadata": {
    "scrolled": true
   },
   "outputs": [
    {
     "data": {
      "text/html": [
       "<style  type=\"text/css\" >\n",
       "    #T_d9270a80_d2fb_11ea_a6ce_9cb6d09a001frow0_col11 {\n",
       "            background:  lightblue;\n",
       "        }    #T_d9270a80_d2fb_11ea_a6ce_9cb6d09a001frow1_col11 {\n",
       "            background:  lightblue;\n",
       "        }    #T_d9270a80_d2fb_11ea_a6ce_9cb6d09a001frow2_col11 {\n",
       "            background:  lightblue;\n",
       "        }    #T_d9270a80_d2fb_11ea_a6ce_9cb6d09a001frow3_col11 {\n",
       "            background:  lightblue;\n",
       "        }    #T_d9270a80_d2fb_11ea_a6ce_9cb6d09a001frow4_col11 {\n",
       "            background:  lightblue;\n",
       "        }</style><table id=\"T_d9270a80_d2fb_11ea_a6ce_9cb6d09a001f\" ><thead>    <tr>        <th class=\"blank level0\" ></th>        <th class=\"col_heading level0 col0\" >C</th>        <th class=\"col_heading level0 col1\" >max_iter</th>        <th class=\"col_heading level0 col2\" >class_weight</th>        <th class=\"col_heading level0 col3\" >solver</th>        <th class=\"col_heading level0 col4\" >train_precision</th>        <th class=\"col_heading level0 col5\" >test_precision</th>        <th class=\"col_heading level0 col6\" >train_recall</th>        <th class=\"col_heading level0 col7\" >test_recall</th>        <th class=\"col_heading level0 col8\" >train_acc</th>        <th class=\"col_heading level0 col9\" >test_acc</th>        <th class=\"col_heading level0 col10\" >train_f1</th>        <th class=\"col_heading level0 col11\" >test_f1</th>    </tr></thead><tbody>\n",
       "                <tr>\n",
       "                        <th id=\"T_d9270a80_d2fb_11ea_a6ce_9cb6d09a001flevel0_row0\" class=\"row_heading level0 row0\" >25</th>\n",
       "                        <td id=\"T_d9270a80_d2fb_11ea_a6ce_9cb6d09a001frow0_col0\" class=\"data row0 col0\" >5</td>\n",
       "                        <td id=\"T_d9270a80_d2fb_11ea_a6ce_9cb6d09a001frow0_col1\" class=\"data row0 col1\" >3000</td>\n",
       "                        <td id=\"T_d9270a80_d2fb_11ea_a6ce_9cb6d09a001frow0_col2\" class=\"data row0 col2\" >None</td>\n",
       "                        <td id=\"T_d9270a80_d2fb_11ea_a6ce_9cb6d09a001frow0_col3\" class=\"data row0 col3\" >sag</td>\n",
       "                        <td id=\"T_d9270a80_d2fb_11ea_a6ce_9cb6d09a001frow0_col4\" class=\"data row0 col4\" >0.909903</td>\n",
       "                        <td id=\"T_d9270a80_d2fb_11ea_a6ce_9cb6d09a001frow0_col5\" class=\"data row0 col5\" >0.872602</td>\n",
       "                        <td id=\"T_d9270a80_d2fb_11ea_a6ce_9cb6d09a001frow0_col6\" class=\"data row0 col6\" >0.66253</td>\n",
       "                        <td id=\"T_d9270a80_d2fb_11ea_a6ce_9cb6d09a001frow0_col7\" class=\"data row0 col7\" >0.623769</td>\n",
       "                        <td id=\"T_d9270a80_d2fb_11ea_a6ce_9cb6d09a001frow0_col8\" class=\"data row0 col8\" >0.961029</td>\n",
       "                        <td id=\"T_d9270a80_d2fb_11ea_a6ce_9cb6d09a001frow0_col9\" class=\"data row0 col9\" >0.9557</td>\n",
       "                        <td id=\"T_d9270a80_d2fb_11ea_a6ce_9cb6d09a001frow0_col10\" class=\"data row0 col10\" >0.766758</td>\n",
       "                        <td id=\"T_d9270a80_d2fb_11ea_a6ce_9cb6d09a001frow0_col11\" class=\"data row0 col11\" >0.727496</td>\n",
       "            </tr>\n",
       "            <tr>\n",
       "                        <th id=\"T_d9270a80_d2fb_11ea_a6ce_9cb6d09a001flevel0_row1\" class=\"row_heading level0 row1\" >6</th>\n",
       "                        <td id=\"T_d9270a80_d2fb_11ea_a6ce_9cb6d09a001frow1_col0\" class=\"data row1 col0\" >1000</td>\n",
       "                        <td id=\"T_d9270a80_d2fb_11ea_a6ce_9cb6d09a001frow1_col1\" class=\"data row1 col1\" >1000</td>\n",
       "                        <td id=\"T_d9270a80_d2fb_11ea_a6ce_9cb6d09a001frow1_col2\" class=\"data row1 col2\" >None</td>\n",
       "                        <td id=\"T_d9270a80_d2fb_11ea_a6ce_9cb6d09a001frow1_col3\" class=\"data row1 col3\" >lbfgs</td>\n",
       "                        <td id=\"T_d9270a80_d2fb_11ea_a6ce_9cb6d09a001frow1_col4\" class=\"data row1 col4\" >0.896705</td>\n",
       "                        <td id=\"T_d9270a80_d2fb_11ea_a6ce_9cb6d09a001frow1_col5\" class=\"data row1 col5\" >0.795181</td>\n",
       "                        <td id=\"T_d9270a80_d2fb_11ea_a6ce_9cb6d09a001frow1_col6\" class=\"data row1 col6\" >0.715721</td>\n",
       "                        <td id=\"T_d9270a80_d2fb_11ea_a6ce_9cb6d09a001frow1_col7\" class=\"data row1 col7\" >0.649789</td>\n",
       "                        <td id=\"T_d9270a80_d2fb_11ea_a6ce_9cb6d09a001frow1_col8\" class=\"data row1 col8\" >0.964543</td>\n",
       "                        <td id=\"T_d9270a80_d2fb_11ea_a6ce_9cb6d09a001frow1_col9\" class=\"data row1 col9\" >0.950933</td>\n",
       "                        <td id=\"T_d9270a80_d2fb_11ea_a6ce_9cb6d09a001frow1_col10\" class=\"data row1 col10\" >0.796056</td>\n",
       "                        <td id=\"T_d9270a80_d2fb_11ea_a6ce_9cb6d09a001frow1_col11\" class=\"data row1 col11\" >0.71517</td>\n",
       "            </tr>\n",
       "            <tr>\n",
       "                        <th id=\"T_d9270a80_d2fb_11ea_a6ce_9cb6d09a001flevel0_row2\" class=\"row_heading level0 row2\" >7</th>\n",
       "                        <td id=\"T_d9270a80_d2fb_11ea_a6ce_9cb6d09a001frow2_col0\" class=\"data row2 col0\" >1000</td>\n",
       "                        <td id=\"T_d9270a80_d2fb_11ea_a6ce_9cb6d09a001frow2_col1\" class=\"data row2 col1\" >1000</td>\n",
       "                        <td id=\"T_d9270a80_d2fb_11ea_a6ce_9cb6d09a001frow2_col2\" class=\"data row2 col2\" >None</td>\n",
       "                        <td id=\"T_d9270a80_d2fb_11ea_a6ce_9cb6d09a001frow2_col3\" class=\"data row2 col3\" >saga</td>\n",
       "                        <td id=\"T_d9270a80_d2fb_11ea_a6ce_9cb6d09a001frow2_col4\" class=\"data row2 col4\" >0.896501</td>\n",
       "                        <td id=\"T_d9270a80_d2fb_11ea_a6ce_9cb6d09a001frow2_col5\" class=\"data row2 col5\" >0.795181</td>\n",
       "                        <td id=\"T_d9270a80_d2fb_11ea_a6ce_9cb6d09a001frow2_col6\" class=\"data row2 col6\" >0.715426</td>\n",
       "                        <td id=\"T_d9270a80_d2fb_11ea_a6ce_9cb6d09a001frow2_col7\" class=\"data row2 col7\" >0.649789</td>\n",
       "                        <td id=\"T_d9270a80_d2fb_11ea_a6ce_9cb6d09a001frow2_col8\" class=\"data row2 col8\" >0.9645</td>\n",
       "                        <td id=\"T_d9270a80_d2fb_11ea_a6ce_9cb6d09a001frow2_col9\" class=\"data row2 col9\" >0.950933</td>\n",
       "                        <td id=\"T_d9270a80_d2fb_11ea_a6ce_9cb6d09a001frow2_col10\" class=\"data row2 col10\" >0.795793</td>\n",
       "                        <td id=\"T_d9270a80_d2fb_11ea_a6ce_9cb6d09a001frow2_col11\" class=\"data row2 col11\" >0.71517</td>\n",
       "            </tr>\n",
       "            <tr>\n",
       "                        <th id=\"T_d9270a80_d2fb_11ea_a6ce_9cb6d09a001flevel0_row3\" class=\"row_heading level0 row3\" >11</th>\n",
       "                        <td id=\"T_d9270a80_d2fb_11ea_a6ce_9cb6d09a001frow3_col0\" class=\"data row3 col0\" >1000</td>\n",
       "                        <td id=\"T_d9270a80_d2fb_11ea_a6ce_9cb6d09a001frow3_col1\" class=\"data row3 col1\" >3000</td>\n",
       "                        <td id=\"T_d9270a80_d2fb_11ea_a6ce_9cb6d09a001frow3_col2\" class=\"data row3 col2\" >None</td>\n",
       "                        <td id=\"T_d9270a80_d2fb_11ea_a6ce_9cb6d09a001frow3_col3\" class=\"data row3 col3\" >sag</td>\n",
       "                        <td id=\"T_d9270a80_d2fb_11ea_a6ce_9cb6d09a001frow3_col4\" class=\"data row3 col4\" >0.896705</td>\n",
       "                        <td id=\"T_d9270a80_d2fb_11ea_a6ce_9cb6d09a001frow3_col5\" class=\"data row3 col5\" >0.795181</td>\n",
       "                        <td id=\"T_d9270a80_d2fb_11ea_a6ce_9cb6d09a001frow3_col6\" class=\"data row3 col6\" >0.715721</td>\n",
       "                        <td id=\"T_d9270a80_d2fb_11ea_a6ce_9cb6d09a001frow3_col7\" class=\"data row3 col7\" >0.649789</td>\n",
       "                        <td id=\"T_d9270a80_d2fb_11ea_a6ce_9cb6d09a001frow3_col8\" class=\"data row3 col8\" >0.964543</td>\n",
       "                        <td id=\"T_d9270a80_d2fb_11ea_a6ce_9cb6d09a001frow3_col9\" class=\"data row3 col9\" >0.950933</td>\n",
       "                        <td id=\"T_d9270a80_d2fb_11ea_a6ce_9cb6d09a001frow3_col10\" class=\"data row3 col10\" >0.796056</td>\n",
       "                        <td id=\"T_d9270a80_d2fb_11ea_a6ce_9cb6d09a001frow3_col11\" class=\"data row3 col11\" >0.71517</td>\n",
       "            </tr>\n",
       "            <tr>\n",
       "                        <th id=\"T_d9270a80_d2fb_11ea_a6ce_9cb6d09a001flevel0_row4\" class=\"row_heading level0 row4\" >26</th>\n",
       "                        <td id=\"T_d9270a80_d2fb_11ea_a6ce_9cb6d09a001frow4_col0\" class=\"data row4 col0\" >100000</td>\n",
       "                        <td id=\"T_d9270a80_d2fb_11ea_a6ce_9cb6d09a001frow4_col1\" class=\"data row4 col1\" >3000</td>\n",
       "                        <td id=\"T_d9270a80_d2fb_11ea_a6ce_9cb6d09a001frow4_col2\" class=\"data row4 col2\" >None</td>\n",
       "                        <td id=\"T_d9270a80_d2fb_11ea_a6ce_9cb6d09a001frow4_col3\" class=\"data row4 col3\" >saga</td>\n",
       "                        <td id=\"T_d9270a80_d2fb_11ea_a6ce_9cb6d09a001frow4_col4\" class=\"data row4 col4\" >0.896456</td>\n",
       "                        <td id=\"T_d9270a80_d2fb_11ea_a6ce_9cb6d09a001frow4_col5\" class=\"data row4 col5\" >0.79006</td>\n",
       "                        <td id=\"T_d9270a80_d2fb_11ea_a6ce_9cb6d09a001frow4_col6\" class=\"data row4 col6\" >0.717642</td>\n",
       "                        <td id=\"T_d9270a80_d2fb_11ea_a6ce_9cb6d09a001frow4_col7\" class=\"data row4 col7\" >0.648383</td>\n",
       "                        <td id=\"T_d9270a80_d2fb_11ea_a6ce_9cb6d09a001frow4_col8\" class=\"data row4 col8\" >0.964686</td>\n",
       "                        <td id=\"T_d9270a80_d2fb_11ea_a6ce_9cb6d09a001frow4_col9\" class=\"data row4 col9\" >0.950333</td>\n",
       "                        <td id=\"T_d9270a80_d2fb_11ea_a6ce_9cb6d09a001frow4_col10\" class=\"data row4 col10\" >0.797144</td>\n",
       "                        <td id=\"T_d9270a80_d2fb_11ea_a6ce_9cb6d09a001frow4_col11\" class=\"data row4 col11\" >0.712244</td>\n",
       "            </tr>\n",
       "    </tbody></table>"
      ],
      "text/plain": [
       "<pandas.io.formats.style.Styler at 0x7fe390d4f080>"
      ]
     },
     "execution_count": 28,
     "metadata": {},
     "output_type": "execute_result"
    }
   ],
   "source": [
    "# Call the Logistic Regression function\n",
    "# logreg_hyper_df = LogReg_RandomSearch(vectors,Y.loc[:,'toxic'])\n",
    "\n",
    "with open('tfidf_scorecard.csv', mode='wt') as fout:\n",
    "    logreg_hyper_df.to_csv(fout,index=False)\n",
    "logreg_hyper_df.style.apply(lambda x: ['background: lightblue' if x.name == 'test_f1' else '' for i in x])"
   ]
  },
  {
   "cell_type": "code",
   "execution_count": 21,
   "metadata": {},
   "outputs": [],
   "source": [
    "X_train, X_test, y_train, y_test = train_test_split(vectors, Y, test_size=0.3, random_state=0)"
   ]
  },
  {
   "cell_type": "code",
   "execution_count": 22,
   "metadata": {},
   "outputs": [
    {
     "name": "stdout",
     "output_type": "stream",
     "text": [
      "Log_loss score for toxic is 1.5335290548836404\n",
      "Confusion Matrix for toxic:\n",
      " [[26884   277]\n",
      " [ 1055  1784]]\n",
      "              precision    recall  f1-score   support\n",
      "\n",
      "           0       0.96      0.99      0.98     27161\n",
      "           1       0.87      0.63      0.73      2839\n",
      "\n",
      "    accuracy                           0.96     30000\n",
      "Class Balance: 0.905/0.095\n",
      "----------------------------------------------------------------------------------------------------\n",
      "Log_loss score for severe_toxic is 0.3258173632002711\n",
      "Confusion Matrix for severe_toxic:\n",
      " [[29639    59]\n",
      " [  224    78]]\n",
      "              precision    recall  f1-score   support\n",
      "\n",
      "           0       0.99      1.00      1.00     29698\n",
      "           1       0.57      0.26      0.36       302\n",
      "\n",
      "    accuracy                           0.99     30000\n",
      "Class Balance: 0.99/0.01\n",
      "----------------------------------------------------------------------------------------------------\n",
      "Log_loss score for obscene is 0.7897900452061652\n",
      "Confusion Matrix for obscene:\n",
      " [[28274   126]\n",
      " [  560  1040]]\n",
      "              precision    recall  f1-score   support\n",
      "\n",
      "           0       0.98      1.00      0.99     28400\n",
      "           1       0.89      0.65      0.75      1600\n",
      "\n",
      "    accuracy                           0.98     30000\n",
      "Class Balance: 0.947/0.053\n",
      "----------------------------------------------------------------------------------------------------\n",
      "Log_loss score for threat is 0.1082218192096932\n",
      "Confusion Matrix for threat:\n",
      " [[29886    12]\n",
      " [   82    20]]\n",
      "              precision    recall  f1-score   support\n",
      "\n",
      "           0       1.00      1.00      1.00     29898\n",
      "           1       0.62      0.20      0.30       102\n",
      "\n",
      "    accuracy                           1.00     30000\n",
      "Class Balance: 0.997/0.003\n",
      "----------------------------------------------------------------------------------------------------\n",
      "Log_loss score for insult is 1.070707851996977\n",
      "Confusion Matrix for insult:\n",
      " [[28310   217]\n",
      " [  713   760]]\n",
      "              precision    recall  f1-score   support\n",
      "\n",
      "           0       0.98      0.99      0.98     28527\n",
      "           1       0.78      0.52      0.62      1473\n",
      "\n",
      "    accuracy                           0.97     30000\n",
      "Class Balance: 0.951/0.049\n",
      "----------------------------------------------------------------------------------------------------\n",
      "Log_loss score for identity_hate is 0.27515971821021956\n",
      "Confusion Matrix for identity_hate:\n",
      " [[29704    30]\n",
      " [  209    57]]\n",
      "              precision    recall  f1-score   support\n",
      "\n",
      "           0       0.99      1.00      1.00     29734\n",
      "           1       0.66      0.21      0.32       266\n",
      "\n",
      "    accuracy                           0.99     30000\n",
      "Class Balance: 0.991/0.009\n",
      "----------------------------------------------------------------------------------------------------\n"
     ]
    }
   ],
   "source": [
    "# Running again with tuned hyperparameters\n",
    "lr = LogisticRegression(C=5, class_weight=None, max_iter=3000, solver='sag')\n",
    "\n",
    "for target in ['toxic','severe_toxic','obscene','threat','insult','identity_hate']:\n",
    "    lr.fit(X_train, y_train.loc[:, target])\n",
    "    y_pred = lr.predict(X_test)\n",
    "\n",
    "    print(f'Log_loss score for {target} is {log_loss(y_test.loc[:, target], y_pred, eps=1e-15)}')\n",
    "    print(f'Confusion Matrix for {target}:\\n {confusion_matrix(y_test.loc[:, target], y_pred)}')\n",
    "    print(classification_report(y_test.loc[:, target], y_pred)[:217])\n",
    "    num = sum(y_test.loc[:, target])\n",
    "    print(f'Class Balance: {round(1 - num/30000, 3)}/{round(num/30000, 3)}')\n",
    "    print('-'*100)"
   ]
  },
  {
   "cell_type": "markdown",
   "metadata": {},
   "source": [
    "# The Best TF-IDF Recipe\n",
    "> + TfidfVectorizer(max_df=0.9, min_df=100, ngram_range=(1, 1), smooth_idf=True, token_pattern='\\\\w{2,}', use_idf=True)\n",
    "> + LogisticRegression(C=5, class_weight=None, max_iter=3000, solver='sag')\n",
    "\n",
    "With the above pipeline, we've managed to maximize our preferred criteria, test_f1. The test accuracy has increased to 96%, capturing nearly 60% of the remaining accuracy above the `toxic` baseline of 90%. Our recall scores have fallen slightly to 63% but the precision has risen to 87% for a comparable f1 score of 0.73. Again, we'll compare TF-IDF with the Doc2vec model:\n",
    "+ toxic: 0.73 (up from 0.72 for Doc2vec/Logistic Regression)\n",
    "+ severe_toxic: 0.30 (up from 0.25)\n",
    "+ obscene: 0.77 (up from 0.74)\n",
    "+ threat: 0.25 ( up from 0.17)\n",
    "+ insult: 0.64 (same as 0.64 for Doc2vec/Logistic Regression)\n",
    "+ identity_hate: 0.35 (up from 0.24)\n",
    "\n",
    "Our TF-IDF model has matched, or outperformed, Doc2vec with every class.\n",
    "\n",
    "## Targeted Features\n",
    "> With the following model, we will create features, using the most common words flagged for each class."
   ]
  },
  {
   "cell_type": "code",
   "execution_count": 6,
   "metadata": {},
   "outputs": [],
   "source": [
    "def lemmatize_document(doc, pos=False):\n",
    "    # tokenize document\n",
    "    tokens = nlp(str(doc))\n",
    "    tokens_list = []\n",
    "    if pos:\n",
    "        for tok in tokens:\n",
    "            # Lemmas and POS\n",
    "            tokens_list.append(str(tok.lemma_) + f'_{tok.pos_}')\n",
    "    else:\n",
    "        for tok in tokens:\n",
    "            # Only the lemmas\n",
    "            tokens_list.append(str(tok.lemma_))\n",
    "    return tokens_list\n",
    "\n",
    "# Vectorize the document\n",
    "lemmatize_corpus = np.vectorize(lemmatize_document)"
   ]
  },
  {
   "cell_type": "code",
   "execution_count": 7,
   "metadata": {
    "scrolled": true
   },
   "outputs": [
    {
     "data": {
      "text/html": [
       "<div>\n",
       "<style scoped>\n",
       "    .dataframe tbody tr th:only-of-type {\n",
       "        vertical-align: middle;\n",
       "    }\n",
       "\n",
       "    .dataframe tbody tr th {\n",
       "        vertical-align: top;\n",
       "    }\n",
       "\n",
       "    .dataframe thead th {\n",
       "        text-align: right;\n",
       "    }\n",
       "</style>\n",
       "<table border=\"1\" class=\"dataframe\">\n",
       "  <thead>\n",
       "    <tr style=\"text-align: right;\">\n",
       "      <th></th>\n",
       "      <th>comment_text</th>\n",
       "      <th>toxic</th>\n",
       "      <th>severe_toxic</th>\n",
       "      <th>obscene</th>\n",
       "      <th>threat</th>\n",
       "      <th>insult</th>\n",
       "      <th>identity_hate</th>\n",
       "    </tr>\n",
       "  </thead>\n",
       "  <tbody>\n",
       "    <tr>\n",
       "      <th>0</th>\n",
       "      <td>[explanation, why, the, edit, make, under, -PR...</td>\n",
       "      <td>0</td>\n",
       "      <td>0</td>\n",
       "      <td>0</td>\n",
       "      <td>0</td>\n",
       "      <td>0</td>\n",
       "      <td>0</td>\n",
       "    </tr>\n",
       "    <tr>\n",
       "      <th>1</th>\n",
       "      <td>[d'aww, -PRON-, match, this, background, colou...</td>\n",
       "      <td>0</td>\n",
       "      <td>0</td>\n",
       "      <td>0</td>\n",
       "      <td>0</td>\n",
       "      <td>0</td>\n",
       "      <td>0</td>\n",
       "    </tr>\n",
       "    <tr>\n",
       "      <th>2</th>\n",
       "      <td>[hey, man, -PRON-, be, really, not, try, to, e...</td>\n",
       "      <td>0</td>\n",
       "      <td>0</td>\n",
       "      <td>0</td>\n",
       "      <td>0</td>\n",
       "      <td>0</td>\n",
       "      <td>0</td>\n",
       "    </tr>\n",
       "    <tr>\n",
       "      <th>3</th>\n",
       "      <td>[more, i, can, not, make, any, real, suggestio...</td>\n",
       "      <td>0</td>\n",
       "      <td>0</td>\n",
       "      <td>0</td>\n",
       "      <td>0</td>\n",
       "      <td>0</td>\n",
       "      <td>0</td>\n",
       "    </tr>\n",
       "    <tr>\n",
       "      <th>4</th>\n",
       "      <td>[-PRON-, sir, be, -PRON-, hero, any, chance, -...</td>\n",
       "      <td>0</td>\n",
       "      <td>0</td>\n",
       "      <td>0</td>\n",
       "      <td>0</td>\n",
       "      <td>0</td>\n",
       "      <td>0</td>\n",
       "    </tr>\n",
       "  </tbody>\n",
       "</table>\n",
       "</div>"
      ],
      "text/plain": [
       "                                        comment_text  toxic  severe_toxic  \\\n",
       "0  [explanation, why, the, edit, make, under, -PR...      0             0   \n",
       "1  [d'aww, -PRON-, match, this, background, colou...      0             0   \n",
       "2  [hey, man, -PRON-, be, really, not, try, to, e...      0             0   \n",
       "3  [more, i, can, not, make, any, real, suggestio...      0             0   \n",
       "4  [-PRON-, sir, be, -PRON-, hero, any, chance, -...      0             0   \n",
       "\n",
       "   obscene  threat  insult  identity_hate  \n",
       "0        0       0       0              0  \n",
       "1        0       0       0              0  \n",
       "2        0       0       0              0  \n",
       "3        0       0       0              0  \n",
       "4        0       0       0              0  "
      ]
     },
     "execution_count": 7,
     "metadata": {},
     "output_type": "execute_result"
    }
   ],
   "source": [
    "# Lemmatize the documents (without vectorization)\n",
    "# comments['comment_text'] = comments['comment_text'].apply(lemmatize_document)\n",
    "\n",
    "# comments.to_pickle('lemmatized_comments.pkl')\n",
    "    \n",
    "lemma_coms = pd.read_pickle('lemmatized_comments.pkl')\n",
    "lemma_coms.head()"
   ]
  },
  {
   "cell_type": "code",
   "execution_count": 9,
   "metadata": {},
   "outputs": [],
   "source": [
    "target_comments = lemma_coms[lemma_coms['toxic']==1].comment_text.reset_index(drop=True)"
   ]
  },
  {
   "cell_type": "code",
   "execution_count": 56,
   "metadata": {},
   "outputs": [
    {
     "name": "stdout",
     "output_type": "stream",
     "text": [
      "Confusion Matrix for toxic:\n",
      " [[26887   269]\n",
      " [ 1025  1819]]\n",
      "              precision    recall  f1-score   support\n",
      "\n",
      "           0       0.96      0.99      0.98     27156\n",
      "           1       0.87      0.64      0.74      2844\n",
      "\n",
      "    accuracy                           0.96     30000\n",
      "Class Balance: 0.905/0.095\n",
      "Execution time: 31.41 seconds\n",
      "----------------------------------------------------------------------------------------------------\n",
      "Confusion Matrix for severe_toxic:\n",
      " [[29630    54]\n",
      " [  266    50]]\n",
      "              precision    recall  f1-score   support\n",
      "\n",
      "           0       0.99      1.00      0.99     29684\n",
      "           1       0.48      0.16      0.24       316\n",
      "\n",
      "    accuracy                           0.99     30000\n",
      "Class Balance: 0.989/0.011\n",
      "Execution time: 34.91 seconds\n",
      "----------------------------------------------------------------------------------------------------\n",
      "Confusion Matrix for obscene:\n",
      " [[28274   148]\n",
      " [  483  1095]]\n",
      "              precision    recall  f1-score   support\n",
      "\n",
      "           0       0.98      0.99      0.99     28422\n",
      "           1       0.88      0.69      0.78      1578\n",
      "\n",
      "    accuracy                           0.98     30000\n",
      "Class Balance: 0.947/0.053\n",
      "Execution time: 29.06 seconds\n",
      "----------------------------------------------------------------------------------------------------\n",
      "Confusion Matrix for threat:\n",
      " [[29888    16]\n",
      " [   91     5]]\n",
      "              precision    recall  f1-score   support\n",
      "\n",
      "           0       1.00      1.00      1.00     29904\n",
      "           1       0.24      0.05      0.09        96\n",
      "\n",
      "    accuracy                           1.00     30000\n",
      "Class Balance: 0.997/0.003\n",
      "Execution time: 26.4 seconds\n",
      "----------------------------------------------------------------------------------------------------\n",
      "Confusion Matrix for insult:\n",
      " [[28294   229]\n",
      " [  669   808]]\n",
      "              precision    recall  f1-score   support\n",
      "\n",
      "           0       0.98      0.99      0.98     28523\n",
      "           1       0.78      0.55      0.64      1477\n",
      "\n",
      "    accuracy                           0.97     30000\n",
      "Class Balance: 0.951/0.049\n",
      "Execution time: 34.38 seconds\n",
      "----------------------------------------------------------------------------------------------------\n",
      "Confusion Matrix for identity_hate:\n",
      " [[29710    39]\n",
      " [  210    41]]\n",
      "              precision    recall  f1-score   support\n",
      "\n",
      "           0       0.99      1.00      1.00     29749\n",
      "           1       0.51      0.16      0.25       251\n",
      "\n",
      "    accuracy                           0.99     30000\n",
      "Class Balance: 0.992/0.008\n",
      "Execution time: 28.93 seconds\n",
      "----------------------------------------------------------------------------------------------------\n"
     ]
    }
   ],
   "source": [
    "for target in ['toxic','severe_toxic','obscene','threat','insult','identity_hate']:\n",
    "    start_time = time.time()\n",
    "    target_comments = lemma_coms[lemma_coms[target]==1].comment_text.reset_index(drop=True)\n",
    "\n",
    "    ###### CREATE TARGETED BOWS ######\n",
    "    bows = []\n",
    "    counter = Counter([])\n",
    "    for i in range(len(target_comments)):\n",
    "        counter += Counter(target_comments[i])\n",
    "    words = counter.most_common(2000)\n",
    "    for i, word in enumerate(words):\n",
    "        # 'words' is an array of tuples, (word, count)\n",
    "        if word[0] in string.punctuation or word[0] in stopwords.words('english'):\n",
    "            continue\n",
    "        elif word[0] != '-PRON-':\n",
    "            # Appending non-punctuation/stopwords to our BOW list\n",
    "            bows.append(word[0])\n",
    "\n",
    "    # Use custom BOW for vocabulary\n",
    "    bow_vectorizer = TfidfVectorizer(max_df=0.9, min_df=100, stop_words='english',lowercase=False, \n",
    "                                       use_idf=True, token_pattern=r'\\w{2,}', sublinear_tf=True, vocabulary=bows)\n",
    "\n",
    "    # Vectorize\n",
    "    vectors = bow_vectorizer.fit_transform(comments.comment_text)\n",
    "    vectors = vectors.todense()\n",
    "    vectors = pd.DataFrame(vectors, columns=bow_vectorizer.get_feature_names())\n",
    "\n",
    "    # Use our tuned parameters\n",
    "    lr = LogisticRegression(C=5, class_weight=None, max_iter=3000, solver='sag', random_state=0)\n",
    "\n",
    "    X_train, X_test, y_train, y_test = train_test_split(vectors, Y, test_size=0.3, random_state=0)\n",
    "\n",
    "    lr.fit(X_train, y_train.loc[:, target])\n",
    "    y_pred = lr.predict(X_test)\n",
    "\n",
    "    # print(f'Log_loss score for {target} is {log_loss(y_test.loc[:, target], y_pred, eps=1e-15)}')\n",
    "    print(f'Confusion Matrix for {target}:\\n {confusion_matrix(y_test.loc[:, target], y_pred)}')\n",
    "    print(classification_report(y_test.loc[:, target], y_pred)[:217])\n",
    "    num = sum(y_test.loc[:, target])\n",
    "    print(f'Class Balance: {round(1 - num/30000, 3)}/{round(num/30000, 3)}')\n",
    "    \n",
    "    end_time = time.time()\n",
    "    print(f'Execution time: {round(end_time - start_time, 2)} seconds')\n",
    "    print('-'*100)"
   ]
  },
  {
   "cell_type": "markdown",
   "metadata": {},
   "source": [
    "# The Best (TFIDF, Targeted Features) Recipe\n",
    "> + TfidfVectorizer(max_df=0.9, min_df=100, use_idf=True, token_pattern=r'\\w{2,}', sublinear_tf=True, vocabulary=bows)\n",
    "+ LogisticRegression(C=5, class_weight=None, max_iter=3000, solver='sag', random_state=0)\n",
    "\n",
    "We now compare the TF-IDF model with algorithmically generated features to our TF-IDF, target features model:\n",
    "\n",
    "+ toxic: 0.74 (up from 0.73 for TF-IDF)\n",
    "+ severe_toxic: 0.24 (DOWN from 0.30)\n",
    "+ obscene: 0.78 (up from 0.77)\n",
    "+ threat: 0.09 (DOWN from 0.25)\n",
    "+ insult: 0.64 (same as 0.64 for TF-IDF)\n",
    "+ identity_hate: 0.25 (DOWN from 0.35)\n",
    "\n",
    "The targeted TF-IDF model has performed worse than the 'out-of-the-box' TF-IDF model."
   ]
  },
  {
   "cell_type": "markdown",
   "metadata": {},
   "source": [
    "## Bigrams"
   ]
  },
  {
   "cell_type": "code",
   "execution_count": 15,
   "metadata": {},
   "outputs": [
    {
     "data": {
      "text/plain": [
       "TfidfVectorizer(analyzer='word', binary=False, decode_error='strict',\n",
       "                dtype=<class 'numpy.float64'>, encoding='utf-8',\n",
       "                input='content', lowercase=True, max_df=0.9, max_features=3000,\n",
       "                min_df=2, ngram_range=(1, 2), norm='l2', preprocessor=None,\n",
       "                smooth_idf=True, stop_words='english', strip_accents=None,\n",
       "                sublinear_tf=True, token_pattern='\\\\w{2,}', tokenizer=None,\n",
       "                use_idf=True, vocabulary=None)"
      ]
     },
     "execution_count": 15,
     "metadata": {},
     "output_type": "execute_result"
    }
   ],
   "source": [
    "tfidf_vectorizer = TfidfVectorizer(max_df=0.9, min_df=2, stop_words='english',lowercase=True, ngram_range=(1,2),\n",
    "                                   max_features=3000, use_idf=True, token_pattern=r'\\w{2,}', sublinear_tf=True)\n",
    "tfidf_vectorizer"
   ]
  },
  {
   "cell_type": "code",
   "execution_count": 16,
   "metadata": {},
   "outputs": [
    {
     "data": {
      "text/plain": [
       "(100000, 3000)"
      ]
     },
     "execution_count": 16,
     "metadata": {},
     "output_type": "execute_result"
    }
   ],
   "source": [
    "bigram_vectors = tfidf_vectorizer.fit_transform(comments.comment_text)\n",
    "bigram_vectors = bigram_vectors.todense()\n",
    "bigram_vectors = pd.DataFrame(bigram_vectors, columns=tfidf_vectorizer.get_feature_names())\n",
    "bigram_vectors.shape"
   ]
  },
  {
   "cell_type": "code",
   "execution_count": 17,
   "metadata": {},
   "outputs": [
    {
     "name": "stdout",
     "output_type": "stream",
     "text": [
      "Log_loss score for toxic is 1.586488565328999\n",
      "Confusion Matrix for toxic:\n",
      " [[26882   279]\n",
      " [ 1099  1740]]\n",
      "              precision    recall  f1-score   support\n",
      "\n",
      "           0       0.96      0.99      0.98     27161\n",
      "           1       0.86      0.61      0.72      2839\n",
      "\n",
      "    accuracy                           0.95     30000\n",
      "Class Balance: 0.905/0.095\n",
      "----------------------------------------------------------------------------------------------------\n",
      "Log_loss score for severe_toxic is 0.3154554904025688\n",
      "Confusion Matrix for severe_toxic:\n",
      " [[29648    50]\n",
      " [  224    78]]\n",
      "              precision    recall  f1-score   support\n",
      "\n",
      "           0       0.99      1.00      1.00     29698\n",
      "           1       0.61      0.26      0.36       302\n",
      "\n",
      "    accuracy                           0.99     30000\n",
      "Class Balance: 0.99/0.01\n",
      "----------------------------------------------------------------------------------------------------\n",
      "Log_loss score for obscene is 0.8013031305906215\n",
      "Confusion Matrix for obscene:\n",
      " [[28268   132]\n",
      " [  564  1036]]\n",
      "              precision    recall  f1-score   support\n",
      "\n",
      "           0       0.98      1.00      0.99     28400\n",
      "           1       0.89      0.65      0.75      1600\n",
      "\n",
      "    accuracy                           0.98     30000\n",
      "Class Balance: 0.947/0.053\n",
      "----------------------------------------------------------------------------------------------------\n",
      "Log_loss score for threat is 0.11052440430268726\n",
      "Confusion Matrix for threat:\n",
      " [[29886    12]\n",
      " [   84    18]]\n",
      "              precision    recall  f1-score   support\n",
      "\n",
      "           0       1.00      1.00      1.00     29898\n",
      "           1       0.60      0.18      0.27       102\n",
      "\n",
      "    accuracy                           1.00     30000\n",
      "Class Balance: 0.997/0.003\n",
      "----------------------------------------------------------------------------------------------------\n",
      "Log_loss score for insult is 1.084523549127675\n",
      "Confusion Matrix for insult:\n",
      " [[28303   224]\n",
      " [  718   755]]\n",
      "              precision    recall  f1-score   support\n",
      "\n",
      "           0       0.98      0.99      0.98     28527\n",
      "           1       0.77      0.51      0.62      1473\n",
      "\n",
      "    accuracy                           0.97     30000\n",
      "Class Balance: 0.951/0.049\n",
      "----------------------------------------------------------------------------------------------------\n",
      "Log_loss score for identity_hate is 0.28552140443518814\n",
      "Confusion Matrix for identity_hate:\n",
      " [[29702    32]\n",
      " [  216    50]]\n",
      "              precision    recall  f1-score   support\n",
      "\n",
      "           0       0.99      1.00      1.00     29734\n",
      "           1       0.61      0.19      0.29       266\n",
      "\n",
      "    accuracy                           0.99     30000\n",
      "Class Balance: 0.991/0.009\n",
      "----------------------------------------------------------------------------------------------------\n"
     ]
    }
   ],
   "source": [
    "X_train, X_test, y_train, y_test = train_test_split(bigram_vectors, Y, test_size=0.3, random_state=0)\n",
    "\n",
    "# Running again with tuned hyperparameters\n",
    "lr = LogisticRegression(C=5, class_weight=None, max_iter=3000, solver='sag')\n",
    "\n",
    "for target in ['toxic','severe_toxic','obscene','threat','insult','identity_hate']:\n",
    "    lr.fit(X_train, y_train.loc[:, target])\n",
    "    y_pred = lr.predict(X_test)\n",
    "\n",
    "    print(f'Log_loss score for {target} is {log_loss(y_test.loc[:, target], y_pred, eps=1e-15)}')\n",
    "    print(f'Confusion Matrix for {target}:\\n {confusion_matrix(y_test.loc[:, target], y_pred)}')\n",
    "    print(classification_report(y_test.loc[:, target], y_pred)[:217])\n",
    "    num = sum(y_test.loc[:, target])\n",
    "    print(f'Class Balance: {round(1 - num/30000, 3)}/{round(num/30000, 3)}')\n",
    "    print('-'*100)"
   ]
  },
  {
   "cell_type": "markdown",
   "metadata": {},
   "source": [
    "# The Best Bigrams, TF-IDF Recipe\n",
    "> + TfidfVectorizer(max_df=0.9, min_df=100, use_idf=True, token_pattern=r'\\w{2,}', sublinear_tf=True, vocabulary=bows)\n",
    "+ LogisticRegression(C=5, class_weight=None, max_iter=3000, solver='sag', random_state=0)\n",
    "\n",
    "We now compare the TF-IDF model with algorithmically generated features to our TF-IDF, target features model:\n",
    "\n",
    "+ toxic: 0.72 (DOWN from 0.73 for TF-IDF)\n",
    "+ severe_toxic: 0.36 (up from 0.30)\n",
    "+ obscene: 0.75 (DOWN from 0.77)\n",
    "+ threat: 0.27 (up from 0.25)\n",
    "+ insult: 0.62 (DOWN from 0.64)\n",
    "+ identity_hate: 0.29 (DOWN from 0.35)\n",
    "\n",
    "The bigrams TF-IDF model has performed worse than the 'out-of-the-box' TF-IDF model for four out of six classes, including the primary class of `toxic`.\n",
    "\n",
    "# Conclusion\n",
    "> Without a clear set of directives determining what makes a comment fall into one, or more, of the abusive categories, it's hard to gauge whether we are capturing a set of hard and fast rules with which these comments were originally classified or if we're simply back-engineering the subjective biases of the humans who originally flagged these comments. Are these moderator flagged comments? Community flagged comments? Do some of the flagged comments become toxic only after they borrow context from other comments they were replying to; comments which may have avoided being flagged themselves?\n",
    "\n",
    "Some of the **false positives** in our model seem to convey language that, given a certain context, could most certainly be classified as toxic."
   ]
  },
  {
   "cell_type": "code",
   "execution_count": 329,
   "metadata": {},
   "outputs": [
    {
     "name": "stdout",
     "output_type": "stream",
     "text": [
      "--> yo mama yo mama yo mama \n",
      "\n",
      "--> bite me irishguy contextflexed \n",
      "\n",
      "--> the block page says i should add this to my page so there it goes someone fix this and get these power corrupt idiots to stop stalking me\n"
     ]
    }
   ],
   "source": [
    "print(\"-->\", comments.comment_text.iloc[71077], '\\n')\n",
    "print(\"-->\", comments.comment_text.iloc[70963], '\\n')\n",
    "print(\"-->\", comments.comment_text.iloc[71658])"
   ]
  },
  {
   "cell_type": "markdown",
   "metadata": {},
   "source": [
    "> They typically tend to convey dissatisfaction of some kind, with some of them even getting away with use of bad words, albeit not always in a manner meant to insult."
   ]
  },
  {
   "cell_type": "code",
   "execution_count": 347,
   "metadata": {},
   "outputs": [
    {
     "name": "stdout",
     "output_type": "stream",
     "text": [
      "--> nan bread is a b***h to make how do you do it i can make chicken marsala but not the indan breads \n",
      "\n",
      "--> thanks sorry i didn't know you weren't allowed to write things like that on articles my bad c***\n"
     ]
    }
   ],
   "source": [
    "print(\"-->\", comments.comment_text.iloc[71301].replace('itc','***'), '\\n')\n",
    "print(\"-->\", comments.comment_text.iloc[71252].replace('unt','***'))"
   ]
  },
  {
   "cell_type": "markdown",
   "metadata": {},
   "source": [
    "> Some of the **false negatives** have contextually harsh language, but which contain words that, on their own, don't necessarily convey toxicity."
   ]
  },
  {
   "cell_type": "code",
   "execution_count": 354,
   "metadata": {},
   "outputs": [
    {
     "name": "stdout",
     "output_type": "stream",
     "text": [
      "--> baby eaters alright is it true that some of the band's songs translate into lyrics like i'm going to cut open your fetus and eat your baby or other horrific lyrics \n",
      "\n",
      "--> you love the devil and worship him\n"
     ]
    }
   ],
   "source": [
    "print(\"-->\", comments.comment_text.iloc[70096], '\\n')\n",
    "print(\"-->\", comments.comment_text.iloc[70121])"
   ]
  },
  {
   "cell_type": "markdown",
   "metadata": {},
   "source": [
    "> Other false negatives seem to convey mild dissatisfaction, but nothing that seems obviously toxic. Perhaps some of these abusive comments borrow context from the comments they were replying to? If so, that makes classification that much trickier."
   ]
  },
  {
   "cell_type": "code",
   "execution_count": 375,
   "metadata": {},
   "outputs": [
    {
     "name": "stdout",
     "output_type": "stream",
     "text": [
      "--> whats the deal you can put crap on my talk page but i cant put crap on yours you're real cool dude\n"
     ]
    }
   ],
   "source": [
    "print(\"-->\", comments.comment_text.iloc[73781])"
   ]
  },
  {
   "cell_type": "markdown",
   "metadata": {},
   "source": [
    "> Perhaps this one escaped detection by our model due to a convenient typo."
   ]
  },
  {
   "cell_type": "code",
   "execution_count": 374,
   "metadata": {},
   "outputs": [
    {
     "name": "stdout",
     "output_type": "stream",
     "text": [
      "--> go and complain me again for personal attack looser i do not care\n"
     ]
    }
   ],
   "source": [
    "print(\"-->\", comments.comment_text.iloc[70122])"
   ]
  },
  {
   "cell_type": "markdown",
   "metadata": {
    "slideshow": {
     "slide_type": "slide"
    }
   },
   "source": [
    "> In the end, whatever it is we're capturing, the TF-IDF, with algorithm generated features, outperformed all our other models across all models (though slightly outperformed by targeted BOWS in the `toxic` class. It also requires the least amount of text modification (no lemmatization) and supplementary functions. With it being the quickest, and easiest model to run, it is the clear winner, performing as well, or better than any of the other models, and in each and every class. Unfortunately, none of the models managed to post impressive results across the board, most likely due to some of the classes having too few instances with which to train a model adequately. A possible solution might be to allow content providers to manually add words to the feature set that they want to trigger an automatic comment flag, either for automatic removal or for human review."
   ]
  },
  {
   "cell_type": "markdown",
   "metadata": {},
   "source": [
    "# DEMO"
   ]
  },
  {
   "cell_type": "code",
   "execution_count": 9,
   "metadata": {},
   "outputs": [
    {
     "data": {
      "text/plain": [
       "LogisticRegression(C=5, class_weight=None, dual=False, fit_intercept=True,\n",
       "                   intercept_scaling=1, l1_ratio=None, max_iter=3000,\n",
       "                   multi_class='warn', n_jobs=None, penalty='l2',\n",
       "                   random_state=None, solver='sag', tol=0.0001, verbose=0,\n",
       "                   warm_start=False)"
      ]
     },
     "execution_count": 9,
     "metadata": {},
     "output_type": "execute_result"
    }
   ],
   "source": [
    "tfidf_vectorizer = TfidfVectorizer(max_df=0.9, min_df=100, stop_words='english',lowercase=True, \n",
    "                                   use_idf=True, token_pattern=r'\\w{2,}', sublinear_tf=True)\n",
    "\n",
    "lr = LogisticRegression(C=5, class_weight=None, max_iter=3000, solver='sag')\n",
    "\n",
    "vectors = tfidf_vectorizer.fit_transform(comments.comment_text)\n",
    "vectors = vectors.todense()\n",
    "vectors = pd.DataFrame(vectors, columns=tfidf_vectorizer.get_feature_names())\n",
    "\n",
    "vectors['unique_words'] = 0\n",
    "for idx, comment in enumerate(comments.comment_text):\n",
    "    val = len(set(comment))/(len(comment) + 1)\n",
    "    vectors['unique_words'].iloc[idx]\n",
    "    \n",
    "Y = comments.iloc[:, 1:]\n",
    "    \n",
    "X_train, X_test, y_train, y_test = train_test_split(vectors, Y, test_size=0.3, random_state=0)\n",
    "\n",
    "lr.fit(X_train, y_train.loc[:, 'toxic'])"
   ]
  },
  {
   "cell_type": "code",
   "execution_count": 10,
   "metadata": {},
   "outputs": [],
   "source": [
    "columns=tfidf_vectorizer.get_feature_names()\n",
    "tfidf_vectorizer2 = TfidfVectorizer(stop_words='english',lowercase=True, use_idf=True, token_pattern=r'\\w{2,}', \n",
    "                                    sublinear_tf=True, vocabulary=columns)\n",
    "\n",
    "def toxicity_detector(threshold=0.5):\n",
    "    text = str(input('Enter text for toxicity evaluation: ')).lower().strip()\n",
    "    text = tfidf_vectorizer2.fit_transform([text])\n",
    "    text = text.todense()\n",
    "    text = pd.DataFrame(text, columns=tfidf_vectorizer.get_feature_names())\n",
    "    text['unique_words'] = len(set(comment))/(len(comment) + 1)\n",
    "    \n",
    "    prob = lr.predict_proba(text)\n",
    "    prob = prob[0][1]\n",
    "    \n",
    "    if prob >= threshold:\n",
    "        print(prob, 'This comment is toxic')\n",
    "    # elif prob >= \n",
    "    else:\n",
    "        print(prob, 'This comment is acceptable')"
   ]
  },
  {
   "cell_type": "code",
   "execution_count": 11,
   "metadata": {},
   "outputs": [
    {
     "name": "stdout",
     "output_type": "stream",
     "text": [
      "Enter text for toxicity evaluation: hello world!\n",
      "0.12598498704133926 This comment is acceptable\n"
     ]
    }
   ],
   "source": [
    "toxicity_detector(0.4)"
   ]
  },
  {
   "cell_type": "code",
   "execution_count": null,
   "metadata": {},
   "outputs": [],
   "source": []
  }
 ],
 "metadata": {
  "kernelspec": {
   "display_name": "Python 3",
   "language": "python",
   "name": "python3"
  },
  "language_info": {
   "codemirror_mode": {
    "name": "ipython",
    "version": 3
   },
   "file_extension": ".py",
   "mimetype": "text/x-python",
   "name": "python",
   "nbconvert_exporter": "python",
   "pygments_lexer": "ipython3",
   "version": "3.6.8"
  }
 },
 "nbformat": 4,
 "nbformat_minor": 2
}
